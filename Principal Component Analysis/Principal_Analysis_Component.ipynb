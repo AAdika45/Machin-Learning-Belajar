{
 "cells": [
  {
   "cell_type": "markdown",
   "metadata": {},
   "source": [
    "Created by: Aslamic Adika $\\\\$\n",
    "date      : 2022-08-30 19.15"
   ]
  },
  {
   "cell_type": "markdown",
   "metadata": {},
   "source": [
    "# Principal Analysis Component\n"
   ]
  },
  {
   "cell_type": "markdown",
   "metadata": {},
   "source": [
    "## Sumber daya dan Ide\n",
    "ide dari PCA ini adalah melihat kontribusi variabel (kolom di dataset) sebanyak $p$ ($p$ dimensi),$\\\\$\n",
    "lalu mereduksinya menjadi $k$ dimensi yang lebih kecil (misal menjadi $2\\hspace{1mm}\\text{dimensi}$) $\\\\$\n",
    "sehingga terdapat $k$ variabel baru ($k\\hspace{1mm}\\text{dimensi}$) dimana $k$ variabel ini adalah dimensi paling minimum $\\\\$\n",
    " yang memberikan kontribusi variansi data terbesar."
   ]
  },
  {
   "cell_type": "markdown",
   "metadata": {},
   "source": [
    "untuk lebih detilnya liat lecture: $\\\\$\n",
    "\n",
    "https://www.youtube.com/watch?v=FgakZw6K1QQ&t=301s $\\\\$ \n",
    "https://www.youtube.com/watch?v=n7npKX5zIWI $\\\\$\n",
    "https://www.youtube.com/watch?v=L-pQtGm3VS8 $\\\\$\n",
    "\n",
    "I made a note for my self-study (the file named \"PCA\"):\n",
    "\n",
    "https://drive.google.com/drive/folders/1ITGVQLuWu1jcxgc9zMPF1vw2ITVDktZA\n"
   ]
  },
  {
   "cell_type": "code",
   "execution_count": 109,
   "metadata": {},
   "outputs": [],
   "source": [
    "#libraries\n",
    "\n",
    "import pandas as pd \n",
    "import numpy as np\n",
    "import seaborn as sns\n",
    "import matplotlib.pyplot as plt\n",
    "%matplotlib inline"
   ]
  },
  {
   "cell_type": "code",
   "execution_count": 110,
   "metadata": {},
   "outputs": [],
   "source": [
    "#Persiapkan dataframe\n",
    "\n",
    "x = [2.5,0.5,2.2,1.9,3.1,2.3,2,1,1.5,1.1]\n",
    "y = [2.4,0.7,2.9,2.2,3.0,2.7,1.6,1.1,1.6,0.9]"
   ]
  },
  {
   "cell_type": "code",
   "execution_count": 111,
   "metadata": {},
   "outputs": [],
   "source": [
    "a = np.array([x,y])\n"
   ]
  },
  {
   "cell_type": "code",
   "execution_count": 112,
   "metadata": {},
   "outputs": [
    {
     "data": {
      "text/html": [
       "<div>\n",
       "<style scoped>\n",
       "    .dataframe tbody tr th:only-of-type {\n",
       "        vertical-align: middle;\n",
       "    }\n",
       "\n",
       "    .dataframe tbody tr th {\n",
       "        vertical-align: top;\n",
       "    }\n",
       "\n",
       "    .dataframe thead th {\n",
       "        text-align: right;\n",
       "    }\n",
       "</style>\n",
       "<table border=\"1\" class=\"dataframe\">\n",
       "  <thead>\n",
       "    <tr style=\"text-align: right;\">\n",
       "      <th></th>\n",
       "      <th>x</th>\n",
       "      <th>y</th>\n",
       "    </tr>\n",
       "  </thead>\n",
       "  <tbody>\n",
       "    <tr>\n",
       "      <th>0</th>\n",
       "      <td>2.5</td>\n",
       "      <td>2.4</td>\n",
       "    </tr>\n",
       "    <tr>\n",
       "      <th>1</th>\n",
       "      <td>0.5</td>\n",
       "      <td>0.7</td>\n",
       "    </tr>\n",
       "    <tr>\n",
       "      <th>2</th>\n",
       "      <td>2.2</td>\n",
       "      <td>2.9</td>\n",
       "    </tr>\n",
       "    <tr>\n",
       "      <th>3</th>\n",
       "      <td>1.9</td>\n",
       "      <td>2.2</td>\n",
       "    </tr>\n",
       "    <tr>\n",
       "      <th>4</th>\n",
       "      <td>3.1</td>\n",
       "      <td>3.0</td>\n",
       "    </tr>\n",
       "    <tr>\n",
       "      <th>5</th>\n",
       "      <td>2.3</td>\n",
       "      <td>2.7</td>\n",
       "    </tr>\n",
       "    <tr>\n",
       "      <th>6</th>\n",
       "      <td>2.0</td>\n",
       "      <td>1.6</td>\n",
       "    </tr>\n",
       "    <tr>\n",
       "      <th>7</th>\n",
       "      <td>1.0</td>\n",
       "      <td>1.1</td>\n",
       "    </tr>\n",
       "    <tr>\n",
       "      <th>8</th>\n",
       "      <td>1.5</td>\n",
       "      <td>1.6</td>\n",
       "    </tr>\n",
       "    <tr>\n",
       "      <th>9</th>\n",
       "      <td>1.1</td>\n",
       "      <td>0.9</td>\n",
       "    </tr>\n",
       "  </tbody>\n",
       "</table>\n",
       "</div>"
      ],
      "text/plain": [
       "     x    y\n",
       "0  2.5  2.4\n",
       "1  0.5  0.7\n",
       "2  2.2  2.9\n",
       "3  1.9  2.2\n",
       "4  3.1  3.0\n",
       "5  2.3  2.7\n",
       "6  2.0  1.6\n",
       "7  1.0  1.1\n",
       "8  1.5  1.6\n",
       "9  1.1  0.9"
      ]
     },
     "execution_count": 112,
     "metadata": {},
     "output_type": "execute_result"
    }
   ],
   "source": [
    "df = pd.DataFrame(a.T, columns=['x','y'])\n",
    "df"
   ]
  },
  {
   "cell_type": "markdown",
   "metadata": {},
   "source": [
    "## Metode Numerik"
   ]
  },
  {
   "cell_type": "markdown",
   "metadata": {},
   "source": [
    "Data Adjust"
   ]
  },
  {
   "cell_type": "markdown",
   "metadata": {},
   "source": [
    "StandardScaller, data ke-$z$: $z_i = \\frac{x_i - \\bar{x}}{s}$ $\\\\$ $\\\\$\n",
    "di mana rata-rata: $\\bar{x} = \\frac{1}{n}\\sum_1^n x_i$ dan standar deviasi: $s = \\sqrt{\\frac{1}{n-1}\\sum_1^n \\left(x_i - \\bar{x} \\right)^2}$"
   ]
  },
  {
   "cell_type": "code",
   "execution_count": 113,
   "metadata": {},
   "outputs": [],
   "source": [
    "from sklearn.preprocessing import StandardScaler\n",
    "standar = StandardScaler()"
   ]
  },
  {
   "cell_type": "markdown",
   "metadata": {},
   "source": [
    "Untuk keperluan mencoba berhitung, tidak digunakan standardscaler. Tapi, dalam project berikutnya akan digunakan standardscaler."
   ]
  },
  {
   "cell_type": "code",
   "execution_count": 114,
   "metadata": {},
   "outputs": [
    {
     "data": {
      "text/html": [
       "<div>\n",
       "<style scoped>\n",
       "    .dataframe tbody tr th:only-of-type {\n",
       "        vertical-align: middle;\n",
       "    }\n",
       "\n",
       "    .dataframe tbody tr th {\n",
       "        vertical-align: top;\n",
       "    }\n",
       "\n",
       "    .dataframe thead th {\n",
       "        text-align: right;\n",
       "    }\n",
       "</style>\n",
       "<table border=\"1\" class=\"dataframe\">\n",
       "  <thead>\n",
       "    <tr style=\"text-align: right;\">\n",
       "      <th></th>\n",
       "      <th>x</th>\n",
       "      <th>y</th>\n",
       "    </tr>\n",
       "  </thead>\n",
       "  <tbody>\n",
       "    <tr>\n",
       "      <th>0</th>\n",
       "      <td>0.926279</td>\n",
       "      <td>0.610169</td>\n",
       "    </tr>\n",
       "    <tr>\n",
       "      <th>1</th>\n",
       "      <td>-1.758587</td>\n",
       "      <td>-1.506743</td>\n",
       "    </tr>\n",
       "    <tr>\n",
       "      <th>2</th>\n",
       "      <td>0.523549</td>\n",
       "      <td>1.232790</td>\n",
       "    </tr>\n",
       "    <tr>\n",
       "      <th>3</th>\n",
       "      <td>0.120819</td>\n",
       "      <td>0.361120</td>\n",
       "    </tr>\n",
       "    <tr>\n",
       "      <th>4</th>\n",
       "      <td>1.731739</td>\n",
       "      <td>1.357314</td>\n",
       "    </tr>\n",
       "    <tr>\n",
       "      <th>5</th>\n",
       "      <td>0.657792</td>\n",
       "      <td>0.983741</td>\n",
       "    </tr>\n",
       "    <tr>\n",
       "      <th>6</th>\n",
       "      <td>0.255062</td>\n",
       "      <td>-0.386025</td>\n",
       "    </tr>\n",
       "    <tr>\n",
       "      <th>7</th>\n",
       "      <td>-1.087371</td>\n",
       "      <td>-1.008646</td>\n",
       "    </tr>\n",
       "    <tr>\n",
       "      <th>8</th>\n",
       "      <td>-0.416154</td>\n",
       "      <td>-0.386025</td>\n",
       "    </tr>\n",
       "    <tr>\n",
       "      <th>9</th>\n",
       "      <td>-0.953127</td>\n",
       "      <td>-1.257695</td>\n",
       "    </tr>\n",
       "  </tbody>\n",
       "</table>\n",
       "</div>"
      ],
      "text/plain": [
       "          x         y\n",
       "0  0.926279  0.610169\n",
       "1 -1.758587 -1.506743\n",
       "2  0.523549  1.232790\n",
       "3  0.120819  0.361120\n",
       "4  1.731739  1.357314\n",
       "5  0.657792  0.983741\n",
       "6  0.255062 -0.386025\n",
       "7 -1.087371 -1.008646\n",
       "8 -0.416154 -0.386025\n",
       "9 -0.953127 -1.257695"
      ]
     },
     "execution_count": 114,
     "metadata": {},
     "output_type": "execute_result"
    }
   ],
   "source": [
    "data_stadard = pd.DataFrame(standar.fit_transform(df[['x','y']]), columns= df.columns)\n",
    "data_stadard "
   ]
  },
  {
   "cell_type": "code",
   "execution_count": 115,
   "metadata": {},
   "outputs": [
    {
     "data": {
      "text/plain": [
       "<matplotlib.collections.PathCollection at 0x1fc7923bf70>"
      ]
     },
     "execution_count": 115,
     "metadata": {},
     "output_type": "execute_result"
    },
    {
     "data": {
      "image/png": "[encoded data removed]",
      "text/plain": [
       "<Figure size 432x288 with 1 Axes>"
      ]
     },
     "metadata": {
      "needs_background": "light"
     },
     "output_type": "display_data"
    }
   ],
   "source": [
    "plt.scatter(df.iloc[:,0],df.iloc[:,1])"
   ]
  },
  {
   "cell_type": "markdown",
   "metadata": {},
   "source": [
    "### Covariance matrix\n",
    "$\\begin{equation}  C = \\begin{bmatrix}      C(x,x) & C(x,y) \\\\ C(y,x) & C(y,y)              \\end{bmatrix}\\end{equation}$ $\\\\$\n",
    "di mana $C(x,y) =  \\frac{1}{n-1}\\sum_1^n \\left(x_i - \\bar{x} \\right)\\left(y_i - \\bar{y} \\right)  $"
   ]
  },
  {
   "cell_type": "code",
   "execution_count": 116,
   "metadata": {},
   "outputs": [],
   "source": [
    "z = np.mean(x)\n",
    "w = np.mean(y)"
   ]
  },
  {
   "cell_type": "code",
   "execution_count": 117,
   "metadata": {},
   "outputs": [
    {
     "data": {
      "text/html": [
       "<div>\n",
       "<style scoped>\n",
       "    .dataframe tbody tr th:only-of-type {\n",
       "        vertical-align: middle;\n",
       "    }\n",
       "\n",
       "    .dataframe tbody tr th {\n",
       "        vertical-align: top;\n",
       "    }\n",
       "\n",
       "    .dataframe thead th {\n",
       "        text-align: right;\n",
       "    }\n",
       "</style>\n",
       "<table border=\"1\" class=\"dataframe\">\n",
       "  <thead>\n",
       "    <tr style=\"text-align: right;\">\n",
       "      <th></th>\n",
       "      <th>x</th>\n",
       "      <th>y</th>\n",
       "      <th>x_adj</th>\n",
       "      <th>y_adj</th>\n",
       "    </tr>\n",
       "  </thead>\n",
       "  <tbody>\n",
       "    <tr>\n",
       "      <th>0</th>\n",
       "      <td>2.5</td>\n",
       "      <td>2.4</td>\n",
       "      <td>0.69</td>\n",
       "      <td>0.59</td>\n",
       "    </tr>\n",
       "    <tr>\n",
       "      <th>1</th>\n",
       "      <td>0.5</td>\n",
       "      <td>0.7</td>\n",
       "      <td>-1.31</td>\n",
       "      <td>-1.11</td>\n",
       "    </tr>\n",
       "    <tr>\n",
       "      <th>2</th>\n",
       "      <td>2.2</td>\n",
       "      <td>2.9</td>\n",
       "      <td>0.39</td>\n",
       "      <td>1.09</td>\n",
       "    </tr>\n",
       "    <tr>\n",
       "      <th>3</th>\n",
       "      <td>1.9</td>\n",
       "      <td>2.2</td>\n",
       "      <td>0.09</td>\n",
       "      <td>0.39</td>\n",
       "    </tr>\n",
       "    <tr>\n",
       "      <th>4</th>\n",
       "      <td>3.1</td>\n",
       "      <td>3.0</td>\n",
       "      <td>1.29</td>\n",
       "      <td>1.19</td>\n",
       "    </tr>\n",
       "    <tr>\n",
       "      <th>5</th>\n",
       "      <td>2.3</td>\n",
       "      <td>2.7</td>\n",
       "      <td>0.49</td>\n",
       "      <td>0.89</td>\n",
       "    </tr>\n",
       "    <tr>\n",
       "      <th>6</th>\n",
       "      <td>2.0</td>\n",
       "      <td>1.6</td>\n",
       "      <td>0.19</td>\n",
       "      <td>-0.21</td>\n",
       "    </tr>\n",
       "    <tr>\n",
       "      <th>7</th>\n",
       "      <td>1.0</td>\n",
       "      <td>1.1</td>\n",
       "      <td>-0.81</td>\n",
       "      <td>-0.71</td>\n",
       "    </tr>\n",
       "    <tr>\n",
       "      <th>8</th>\n",
       "      <td>1.5</td>\n",
       "      <td>1.6</td>\n",
       "      <td>-0.31</td>\n",
       "      <td>-0.21</td>\n",
       "    </tr>\n",
       "    <tr>\n",
       "      <th>9</th>\n",
       "      <td>1.1</td>\n",
       "      <td>0.9</td>\n",
       "      <td>-0.71</td>\n",
       "      <td>-0.91</td>\n",
       "    </tr>\n",
       "  </tbody>\n",
       "</table>\n",
       "</div>"
      ],
      "text/plain": [
       "     x    y  x_adj  y_adj\n",
       "0  2.5  2.4   0.69   0.59\n",
       "1  0.5  0.7  -1.31  -1.11\n",
       "2  2.2  2.9   0.39   1.09\n",
       "3  1.9  2.2   0.09   0.39\n",
       "4  3.1  3.0   1.29   1.19\n",
       "5  2.3  2.7   0.49   0.89\n",
       "6  2.0  1.6   0.19  -0.21\n",
       "7  1.0  1.1  -0.81  -0.71\n",
       "8  1.5  1.6  -0.31  -0.21\n",
       "9  1.1  0.9  -0.71  -0.91"
      ]
     },
     "execution_count": 117,
     "metadata": {},
     "output_type": "execute_result"
    }
   ],
   "source": [
    "df['x_adj'] = df['x'].map(lambda x: x-z)\n",
    "df['y_adj'] = df['y'].map(lambda d: d-z)\n",
    "df"
   ]
  },
  {
   "cell_type": "code",
   "execution_count": 118,
   "metadata": {},
   "outputs": [
    {
     "data": {
      "text/plain": [
       "(-2.0, 2.0)"
      ]
     },
     "execution_count": 118,
     "metadata": {},
     "output_type": "execute_result"
    },
    {
     "data": {
      "image/png": "[encoded data removed]",
      "text/plain": [
       "<Figure size 432x288 with 1 Axes>"
      ]
     },
     "metadata": {
      "needs_background": "light"
     },
     "output_type": "display_data"
    }
   ],
   "source": [
    "plt.scatter(df.iloc[:,2],df.iloc[:,3],)\n",
    "plt.xlim(-2,2)\n",
    "# sns.regplot(df.iloc[:,2],df.iloc[:,3])\n",
    "plt.axhline(linewidth = 0.68, color = 'black')\n",
    "plt.axvline(linewidth = 0.68, color = 'black')\n",
    "plt.ylim(-2,2)"
   ]
  },
  {
   "cell_type": "code",
   "execution_count": 119,
   "metadata": {},
   "outputs": [
    {
     "data": {
      "text/plain": [
       "array([[0.61655556, 0.61544444],\n",
       "       [0.61544444, 0.71655556]])"
      ]
     },
     "execution_count": 119,
     "metadata": {},
     "output_type": "execute_result"
    }
   ],
   "source": [
    "Cov_xy_baru = np.cov(df.iloc[:,2],df.iloc[:,3])\n",
    "Cov_xy_baru"
   ]
  },
  {
   "cell_type": "code",
   "execution_count": 120,
   "metadata": {},
   "outputs": [],
   "source": [
    "from numpy import linalg as la"
   ]
  },
  {
   "cell_type": "code",
   "execution_count": 121,
   "metadata": {},
   "outputs": [
    {
     "data": {
      "text/plain": [
       "array([0.0490834 , 1.28402771])"
      ]
     },
     "execution_count": 121,
     "metadata": {},
     "output_type": "execute_result"
    }
   ],
   "source": [
    "eigen_val, eigen_vec = la.eig(Cov_xy_baru)\n",
    "eigen_val"
   ]
  },
  {
   "cell_type": "code",
   "execution_count": 122,
   "metadata": {},
   "outputs": [
    {
     "data": {
      "text/plain": [
       "array([[-0.73517866, -0.6778734 ],\n",
       "       [ 0.6778734 , -0.73517866]])"
      ]
     },
     "execution_count": 122,
     "metadata": {},
     "output_type": "execute_result"
    }
   ],
   "source": [
    "eigen_vec"
   ]
  },
  {
   "cell_type": "code",
   "execution_count": 123,
   "metadata": {},
   "outputs": [
    {
     "data": {
      "image/png": "[encoded data removed]",
      "text/plain": [
       "<Figure size 648x360 with 1 Axes>"
      ]
     },
     "metadata": {
      "needs_background": "light"
     },
     "output_type": "display_data"
    }
   ],
   "source": [
    "\n",
    "c = np.linspace(-2,2,1000)\n",
    "plt.figure(figsize=(9,5))\n",
    "plt.plot(-0.73517866*c/0.6778734,c, ls = '--',color = 'red', linewidth =1.3)\n",
    "plt.plot(0.6778734*c/0.73517866,c, ls = '--',color = 'blue', linewidth =1.3) #Principal component 1\n",
    "plt.scatter(df.iloc[:,2],df.iloc[:,3], marker='D',color='green')\n",
    "plt.grid(True)\n",
    "plt.axvline(x=0, c=\"black\", label=\"x=0\", ls = '--', linewidth = 0.8)\n",
    "plt.axhline(y=0, c=\"black\", label=\"y=0\", ls = '--',linewidth = 0.8)\n",
    "plt.xlim(-2,2)\n",
    "plt.ylim(-2,2)\n",
    "plt.show()\n"
   ]
  },
  {
   "cell_type": "markdown",
   "metadata": {},
   "source": [
    "Dar gambar di atas, principal component pertama adalah garis biru (eigen value dengan nilai tertinggi). Sehingga sekarang dengan satu garis (1 dimensi) $\\\\$\n",
    "kita dapatkan dimensi yang lebih kecil"
   ]
  },
  {
   "cell_type": "markdown",
   "metadata": {},
   "source": [
    "#### feature vector\n",
    "\n",
    "$feature\\hspace{1mm}vector = \\left\\lbrace \\lambda_1,\\lambda_2,\\lambda_3,\\dots, \\lambda_p \\right\\rbrace $ $\\\\$\n",
    "where $\\lambda_1 \\geq \\lambda_2 \\geq\\lambda_3 \\geq\\dots \\geq\\lambda_p$"
   ]
  },
  {
   "cell_type": "code",
   "execution_count": 124,
   "metadata": {},
   "outputs": [
    {
     "data": {
      "text/plain": [
       "array([0.0490834 , 1.28402771])"
      ]
     },
     "execution_count": 124,
     "metadata": {},
     "output_type": "execute_result"
    }
   ],
   "source": [
    "eigen_val"
   ]
  },
  {
   "cell_type": "code",
   "execution_count": 125,
   "metadata": {},
   "outputs": [
    {
     "data": {
      "text/plain": [
       "array([[-0.73517866, -0.6778734 ],\n",
       "       [ 0.6778734 , -0.73517866]])"
      ]
     },
     "execution_count": 125,
     "metadata": {},
     "output_type": "execute_result"
    }
   ],
   "source": [
    "eigen_vec"
   ]
  },
  {
   "cell_type": "code",
   "execution_count": 185,
   "metadata": {},
   "outputs": [
    {
     "data": {
      "text/plain": [
       "0.9220526069132637"
      ]
     },
     "execution_count": 185,
     "metadata": {},
     "output_type": "execute_result"
    }
   ],
   "source": [
    "0.6778734/0.73517866"
   ]
  },
  {
   "cell_type": "code",
   "execution_count": 126,
   "metadata": {},
   "outputs": [
    {
     "data": {
      "text/plain": [
       "array([-0.6778734 , -0.73517866])"
      ]
     },
     "execution_count": 126,
     "metadata": {},
     "output_type": "execute_result"
    }
   ],
   "source": [
    "#eigen vektor dengan lambda terbesar\n",
    "eigen_vec[:,1]"
   ]
  },
  {
   "cell_type": "markdown",
   "metadata": {},
   "source": [
    "mengingat eigen value terbesar adalah $\\lambda_1 =  1.28402771$, dengan kontribusi data sebesar: $\\\\$\n",
    "$1.28402771/( 1.28402771 + 0.0490834) \\approx 96.31\\% $, $\\lambda_1$ juga membuat eigen vector $u_1 =  \\begin{bmatrix}-0.6778734   \\\\-0.73517866\\end{bmatrix}$ $\\\\$ sehingga Principal Component pertama adalah $u_1$"
   ]
  },
  {
   "cell_type": "markdown",
   "metadata": {},
   "source": [
    "### Deriving new dataset"
   ]
  },
  {
   "cell_type": "markdown",
   "metadata": {},
   "source": [
    "$Final\\hspace{1mm} = u_1^T df[X_{baru}]^T$"
   ]
  },
  {
   "cell_type": "markdown",
   "metadata": {},
   "source": [
    "#### First principal component"
   ]
  },
  {
   "cell_type": "markdown",
   "metadata": {},
   "source": [
    "Untuk mendapatkan data pertama hasil eigen vektor dengan $lambda$ terbesar, maka kita gunakan $u_1$. $\\\\$\n",
    "Mengingat FCP diberkan oleh $z_i = a^Tx_i$, maka data first principal component pertama kita adalah $\\\\$\n",
    "$z_1 = \\begin{bmatrix}-0.6778734   & -0.73517866\\end{bmatrix} \\begin{bmatrix}0.69   \\\\0.59\\end{bmatrix} = -0.9014880517555286$"
   ]
  },
  {
   "cell_type": "code",
   "execution_count": 182,
   "metadata": {},
   "outputs": [
    {
     "data": {
      "text/plain": [
       "-0.9014880517555286"
      ]
     },
     "execution_count": 182,
     "metadata": {},
     "output_type": "execute_result"
    }
   ],
   "source": [
    "np.matmul(eigen_vec[:,1], np.array([df.iloc[0,2],df.iloc[0,3]]).T)"
   ]
  },
  {
   "cell_type": "code",
   "execution_count": 183,
   "metadata": {},
   "outputs": [
    {
     "data": {
      "text/plain": [
       "array([0.69, 0.59])"
      ]
     },
     "execution_count": 183,
     "metadata": {},
     "output_type": "execute_result"
    }
   ],
   "source": [
    "np.array([df.iloc[0,2],df.iloc[0,3]])"
   ]
  },
  {
   "cell_type": "code",
   "execution_count": 128,
   "metadata": {},
   "outputs": [],
   "source": [
    "#loop for FCP\n",
    "FCP = []\n",
    "def fcp(data):\n",
    "    for i in range(0,len(data)):\n",
    "        l = np.matmul(eigen_vec[:,1].T, np.array([data.iloc[i,2],data.iloc[i,3]]))\n",
    "        k = l.item() #convert array to scalar value\n",
    "        FCP.append(k)\n",
    "    print('FCP = ', FCP)\n",
    "    "
   ]
  },
  {
   "cell_type": "code",
   "execution_count": 129,
   "metadata": {},
   "outputs": [
    {
     "name": "stdout",
     "output_type": "stream",
     "text": [
      "FCP =  [-0.9014880517555286, 1.7040624597259884, -1.0657153599693292, -0.34772828152984014, -1.7493192841989806, -0.9864669687132487, 0.025591571944003466, 1.0710542982442193, 0.3645282712080093, 1.1503026895002995]\n"
     ]
    }
   ],
   "source": [
    "fcp(df)"
   ]
  },
  {
   "cell_type": "code",
   "execution_count": 130,
   "metadata": {},
   "outputs": [],
   "source": [
    "df['FCP'] = FCP"
   ]
  },
  {
   "cell_type": "code",
   "execution_count": 131,
   "metadata": {},
   "outputs": [
    {
     "data": {
      "text/html": [
       "<div>\n",
       "<style scoped>\n",
       "    .dataframe tbody tr th:only-of-type {\n",
       "        vertical-align: middle;\n",
       "    }\n",
       "\n",
       "    .dataframe tbody tr th {\n",
       "        vertical-align: top;\n",
       "    }\n",
       "\n",
       "    .dataframe thead th {\n",
       "        text-align: right;\n",
       "    }\n",
       "</style>\n",
       "<table border=\"1\" class=\"dataframe\">\n",
       "  <thead>\n",
       "    <tr style=\"text-align: right;\">\n",
       "      <th></th>\n",
       "      <th>x</th>\n",
       "      <th>y</th>\n",
       "      <th>x_adj</th>\n",
       "      <th>y_adj</th>\n",
       "      <th>FCP</th>\n",
       "    </tr>\n",
       "  </thead>\n",
       "  <tbody>\n",
       "    <tr>\n",
       "      <th>0</th>\n",
       "      <td>2.5</td>\n",
       "      <td>2.4</td>\n",
       "      <td>0.69</td>\n",
       "      <td>0.59</td>\n",
       "      <td>-0.901488</td>\n",
       "    </tr>\n",
       "    <tr>\n",
       "      <th>1</th>\n",
       "      <td>0.5</td>\n",
       "      <td>0.7</td>\n",
       "      <td>-1.31</td>\n",
       "      <td>-1.11</td>\n",
       "      <td>1.704062</td>\n",
       "    </tr>\n",
       "    <tr>\n",
       "      <th>2</th>\n",
       "      <td>2.2</td>\n",
       "      <td>2.9</td>\n",
       "      <td>0.39</td>\n",
       "      <td>1.09</td>\n",
       "      <td>-1.065715</td>\n",
       "    </tr>\n",
       "    <tr>\n",
       "      <th>3</th>\n",
       "      <td>1.9</td>\n",
       "      <td>2.2</td>\n",
       "      <td>0.09</td>\n",
       "      <td>0.39</td>\n",
       "      <td>-0.347728</td>\n",
       "    </tr>\n",
       "    <tr>\n",
       "      <th>4</th>\n",
       "      <td>3.1</td>\n",
       "      <td>3.0</td>\n",
       "      <td>1.29</td>\n",
       "      <td>1.19</td>\n",
       "      <td>-1.749319</td>\n",
       "    </tr>\n",
       "    <tr>\n",
       "      <th>5</th>\n",
       "      <td>2.3</td>\n",
       "      <td>2.7</td>\n",
       "      <td>0.49</td>\n",
       "      <td>0.89</td>\n",
       "      <td>-0.986467</td>\n",
       "    </tr>\n",
       "    <tr>\n",
       "      <th>6</th>\n",
       "      <td>2.0</td>\n",
       "      <td>1.6</td>\n",
       "      <td>0.19</td>\n",
       "      <td>-0.21</td>\n",
       "      <td>0.025592</td>\n",
       "    </tr>\n",
       "    <tr>\n",
       "      <th>7</th>\n",
       "      <td>1.0</td>\n",
       "      <td>1.1</td>\n",
       "      <td>-0.81</td>\n",
       "      <td>-0.71</td>\n",
       "      <td>1.071054</td>\n",
       "    </tr>\n",
       "    <tr>\n",
       "      <th>8</th>\n",
       "      <td>1.5</td>\n",
       "      <td>1.6</td>\n",
       "      <td>-0.31</td>\n",
       "      <td>-0.21</td>\n",
       "      <td>0.364528</td>\n",
       "    </tr>\n",
       "    <tr>\n",
       "      <th>9</th>\n",
       "      <td>1.1</td>\n",
       "      <td>0.9</td>\n",
       "      <td>-0.71</td>\n",
       "      <td>-0.91</td>\n",
       "      <td>1.150303</td>\n",
       "    </tr>\n",
       "  </tbody>\n",
       "</table>\n",
       "</div>"
      ],
      "text/plain": [
       "     x    y  x_adj  y_adj       FCP\n",
       "0  2.5  2.4   0.69   0.59 -0.901488\n",
       "1  0.5  0.7  -1.31  -1.11  1.704062\n",
       "2  2.2  2.9   0.39   1.09 -1.065715\n",
       "3  1.9  2.2   0.09   0.39 -0.347728\n",
       "4  3.1  3.0   1.29   1.19 -1.749319\n",
       "5  2.3  2.7   0.49   0.89 -0.986467\n",
       "6  2.0  1.6   0.19  -0.21  0.025592\n",
       "7  1.0  1.1  -0.81  -0.71  1.071054\n",
       "8  1.5  1.6  -0.31  -0.21  0.364528\n",
       "9  1.1  0.9  -0.71  -0.91  1.150303"
      ]
     },
     "execution_count": 131,
     "metadata": {},
     "output_type": "execute_result"
    }
   ],
   "source": [
    "df"
   ]
  },
  {
   "cell_type": "markdown",
   "metadata": {},
   "source": [
    "Dari sini kita dapatkan FCP yang digunakan untuk keperluan statistik pada umumnya. Setelah analisis dilakukan, kita perlu mengembalikan data yang ditransformasi ke FCP menjadi data awal. Selanjutnya akan dibahas bagaimana mentransformasi ulang data tersebut."
   ]
  },
  {
   "cell_type": "markdown",
   "metadata": {},
   "source": [
    "### menemukan data baru "
   ]
  },
  {
   "cell_type": "markdown",
   "metadata": {},
   "source": [
    "mengingat $a^Ta =1$, maka kita tahu bahwa $a^T = a^{-1}$. Mengingat FCP diperoleh dari $z_i = a^Tx_i \\\\$\n",
    "maka kita peroleh $x_i = az_i$, dimana $x_i$ merupakan data baru dari First Principal Component."
   ]
  },
  {
   "cell_type": "code",
   "execution_count": 132,
   "metadata": {},
   "outputs": [],
   "source": [
    "def data_baru(x):\n",
    "    x = eigen_vec[:,1][0]*x\n",
    "    return x\n",
    "def data_baru1(y):\n",
    "    y =  eigen_vec[:,1][1]*y\n",
    "    return y"
   ]
  },
  {
   "cell_type": "code",
   "execution_count": 133,
   "metadata": {},
   "outputs": [],
   "source": [
    "df['x_br'] = df['FCP'].apply(data_baru)\n",
    "df['y_br'] = df['FCP'].apply(data_baru1)"
   ]
  },
  {
   "cell_type": "code",
   "execution_count": 134,
   "metadata": {},
   "outputs": [
    {
     "data": {
      "text/html": [
       "<div>\n",
       "<style scoped>\n",
       "    .dataframe tbody tr th:only-of-type {\n",
       "        vertical-align: middle;\n",
       "    }\n",
       "\n",
       "    .dataframe tbody tr th {\n",
       "        vertical-align: top;\n",
       "    }\n",
       "\n",
       "    .dataframe thead th {\n",
       "        text-align: right;\n",
       "    }\n",
       "</style>\n",
       "<table border=\"1\" class=\"dataframe\">\n",
       "  <thead>\n",
       "    <tr style=\"text-align: right;\">\n",
       "      <th></th>\n",
       "      <th>x</th>\n",
       "      <th>y</th>\n",
       "      <th>x_adj</th>\n",
       "      <th>y_adj</th>\n",
       "      <th>FCP</th>\n",
       "      <th>x_br</th>\n",
       "      <th>y_br</th>\n",
       "    </tr>\n",
       "  </thead>\n",
       "  <tbody>\n",
       "    <tr>\n",
       "      <th>0</th>\n",
       "      <td>2.5</td>\n",
       "      <td>2.4</td>\n",
       "      <td>0.69</td>\n",
       "      <td>0.59</td>\n",
       "      <td>-0.901488</td>\n",
       "      <td>0.611095</td>\n",
       "      <td>0.662755</td>\n",
       "    </tr>\n",
       "    <tr>\n",
       "      <th>1</th>\n",
       "      <td>0.5</td>\n",
       "      <td>0.7</td>\n",
       "      <td>-1.31</td>\n",
       "      <td>-1.11</td>\n",
       "      <td>1.704062</td>\n",
       "      <td>-1.155139</td>\n",
       "      <td>-1.252790</td>\n",
       "    </tr>\n",
       "    <tr>\n",
       "      <th>2</th>\n",
       "      <td>2.2</td>\n",
       "      <td>2.9</td>\n",
       "      <td>0.39</td>\n",
       "      <td>1.09</td>\n",
       "      <td>-1.065715</td>\n",
       "      <td>0.722420</td>\n",
       "      <td>0.783491</td>\n",
       "    </tr>\n",
       "    <tr>\n",
       "      <th>3</th>\n",
       "      <td>1.9</td>\n",
       "      <td>2.2</td>\n",
       "      <td>0.09</td>\n",
       "      <td>0.39</td>\n",
       "      <td>-0.347728</td>\n",
       "      <td>0.235716</td>\n",
       "      <td>0.255642</td>\n",
       "    </tr>\n",
       "    <tr>\n",
       "      <th>4</th>\n",
       "      <td>3.1</td>\n",
       "      <td>3.0</td>\n",
       "      <td>1.29</td>\n",
       "      <td>1.19</td>\n",
       "      <td>-1.749319</td>\n",
       "      <td>1.185817</td>\n",
       "      <td>1.286062</td>\n",
       "    </tr>\n",
       "    <tr>\n",
       "      <th>5</th>\n",
       "      <td>2.3</td>\n",
       "      <td>2.7</td>\n",
       "      <td>0.49</td>\n",
       "      <td>0.89</td>\n",
       "      <td>-0.986467</td>\n",
       "      <td>0.668700</td>\n",
       "      <td>0.725229</td>\n",
       "    </tr>\n",
       "    <tr>\n",
       "      <th>6</th>\n",
       "      <td>2.0</td>\n",
       "      <td>1.6</td>\n",
       "      <td>0.19</td>\n",
       "      <td>-0.21</td>\n",
       "      <td>0.025592</td>\n",
       "      <td>-0.017348</td>\n",
       "      <td>-0.018814</td>\n",
       "    </tr>\n",
       "    <tr>\n",
       "      <th>7</th>\n",
       "      <td>1.0</td>\n",
       "      <td>1.1</td>\n",
       "      <td>-0.81</td>\n",
       "      <td>-0.71</td>\n",
       "      <td>1.071054</td>\n",
       "      <td>-0.726039</td>\n",
       "      <td>-0.787416</td>\n",
       "    </tr>\n",
       "    <tr>\n",
       "      <th>8</th>\n",
       "      <td>1.5</td>\n",
       "      <td>1.6</td>\n",
       "      <td>-0.31</td>\n",
       "      <td>-0.21</td>\n",
       "      <td>0.364528</td>\n",
       "      <td>-0.247104</td>\n",
       "      <td>-0.267993</td>\n",
       "    </tr>\n",
       "    <tr>\n",
       "      <th>9</th>\n",
       "      <td>1.1</td>\n",
       "      <td>0.9</td>\n",
       "      <td>-0.71</td>\n",
       "      <td>-0.91</td>\n",
       "      <td>1.150303</td>\n",
       "      <td>-0.779760</td>\n",
       "      <td>-0.845678</td>\n",
       "    </tr>\n",
       "  </tbody>\n",
       "</table>\n",
       "</div>"
      ],
      "text/plain": [
       "     x    y  x_adj  y_adj       FCP      x_br      y_br\n",
       "0  2.5  2.4   0.69   0.59 -0.901488  0.611095  0.662755\n",
       "1  0.5  0.7  -1.31  -1.11  1.704062 -1.155139 -1.252790\n",
       "2  2.2  2.9   0.39   1.09 -1.065715  0.722420  0.783491\n",
       "3  1.9  2.2   0.09   0.39 -0.347728  0.235716  0.255642\n",
       "4  3.1  3.0   1.29   1.19 -1.749319  1.185817  1.286062\n",
       "5  2.3  2.7   0.49   0.89 -0.986467  0.668700  0.725229\n",
       "6  2.0  1.6   0.19  -0.21  0.025592 -0.017348 -0.018814\n",
       "7  1.0  1.1  -0.81  -0.71  1.071054 -0.726039 -0.787416\n",
       "8  1.5  1.6  -0.31  -0.21  0.364528 -0.247104 -0.267993\n",
       "9  1.1  0.9  -0.71  -0.91  1.150303 -0.779760 -0.845678"
      ]
     },
     "execution_count": 134,
     "metadata": {},
     "output_type": "execute_result"
    }
   ],
   "source": [
    "df"
   ]
  },
  {
   "cell_type": "code",
   "execution_count": 145,
   "metadata": {},
   "outputs": [
    {
     "data": {
      "image/png": "[encoded data removed]",
      "text/plain": [
       "<Figure size 432x288 with 1 Axes>"
      ]
     },
     "metadata": {
      "needs_background": "light"
     },
     "output_type": "display_data"
    }
   ],
   "source": [
    "# Data terbaru berdasarkan kedekatan dengan First Principal Component\n",
    "\n",
    "c = np.linspace(-2,2,1000)\n",
    "plt.plot(0.6778734*c/0.73517866,c, ls = '--',color = 'red', linewidth =1.3) #Principal component 1\n",
    "plt.scatter(df['x_br'],df['y_br'])\n",
    "plt.plot()\n",
    "plt.show()"
   ]
  },
  {
   "cell_type": "markdown",
   "metadata": {},
   "source": [
    "plot scattering di atas adalah sebaran data dari hasil perhitungan FCP, terlihat data berhimpit dengan FCP."
   ]
  },
  {
   "cell_type": "code",
   "execution_count": 136,
   "metadata": {},
   "outputs": [],
   "source": [
    "def data_baru2(x):\n",
    "    x = eigen_vec[:,1][0]*x + z\n",
    "    return x\n",
    "def data_baru3(y):\n",
    "    y =  eigen_vec[:,1][1]*y + w\n",
    "    return y"
   ]
  },
  {
   "cell_type": "code",
   "execution_count": 137,
   "metadata": {},
   "outputs": [],
   "source": [
    "df['x_br_baru'] = df['FCP'].apply(data_baru2)\n",
    "df['y_br_baru'] = df['FCP'].apply(data_baru3)"
   ]
  },
  {
   "cell_type": "code",
   "execution_count": 138,
   "metadata": {},
   "outputs": [
    {
     "data": {
      "text/html": [
       "<div>\n",
       "<style scoped>\n",
       "    .dataframe tbody tr th:only-of-type {\n",
       "        vertical-align: middle;\n",
       "    }\n",
       "\n",
       "    .dataframe tbody tr th {\n",
       "        vertical-align: top;\n",
       "    }\n",
       "\n",
       "    .dataframe thead th {\n",
       "        text-align: right;\n",
       "    }\n",
       "</style>\n",
       "<table border=\"1\" class=\"dataframe\">\n",
       "  <thead>\n",
       "    <tr style=\"text-align: right;\">\n",
       "      <th></th>\n",
       "      <th>x</th>\n",
       "      <th>y</th>\n",
       "      <th>x_adj</th>\n",
       "      <th>y_adj</th>\n",
       "      <th>FCP</th>\n",
       "      <th>x_br</th>\n",
       "      <th>y_br</th>\n",
       "      <th>x_br_baru</th>\n",
       "      <th>y_br_baru</th>\n",
       "    </tr>\n",
       "  </thead>\n",
       "  <tbody>\n",
       "    <tr>\n",
       "      <th>0</th>\n",
       "      <td>2.5</td>\n",
       "      <td>2.4</td>\n",
       "      <td>0.69</td>\n",
       "      <td>0.59</td>\n",
       "      <td>-0.901488</td>\n",
       "      <td>0.611095</td>\n",
       "      <td>0.662755</td>\n",
       "      <td>2.421095</td>\n",
       "      <td>2.572755</td>\n",
       "    </tr>\n",
       "    <tr>\n",
       "      <th>1</th>\n",
       "      <td>0.5</td>\n",
       "      <td>0.7</td>\n",
       "      <td>-1.31</td>\n",
       "      <td>-1.11</td>\n",
       "      <td>1.704062</td>\n",
       "      <td>-1.155139</td>\n",
       "      <td>-1.252790</td>\n",
       "      <td>0.654861</td>\n",
       "      <td>0.657210</td>\n",
       "    </tr>\n",
       "    <tr>\n",
       "      <th>2</th>\n",
       "      <td>2.2</td>\n",
       "      <td>2.9</td>\n",
       "      <td>0.39</td>\n",
       "      <td>1.09</td>\n",
       "      <td>-1.065715</td>\n",
       "      <td>0.722420</td>\n",
       "      <td>0.783491</td>\n",
       "      <td>2.532420</td>\n",
       "      <td>2.693491</td>\n",
       "    </tr>\n",
       "    <tr>\n",
       "      <th>3</th>\n",
       "      <td>1.9</td>\n",
       "      <td>2.2</td>\n",
       "      <td>0.09</td>\n",
       "      <td>0.39</td>\n",
       "      <td>-0.347728</td>\n",
       "      <td>0.235716</td>\n",
       "      <td>0.255642</td>\n",
       "      <td>2.045716</td>\n",
       "      <td>2.165642</td>\n",
       "    </tr>\n",
       "    <tr>\n",
       "      <th>4</th>\n",
       "      <td>3.1</td>\n",
       "      <td>3.0</td>\n",
       "      <td>1.29</td>\n",
       "      <td>1.19</td>\n",
       "      <td>-1.749319</td>\n",
       "      <td>1.185817</td>\n",
       "      <td>1.286062</td>\n",
       "      <td>2.995817</td>\n",
       "      <td>3.196062</td>\n",
       "    </tr>\n",
       "    <tr>\n",
       "      <th>5</th>\n",
       "      <td>2.3</td>\n",
       "      <td>2.7</td>\n",
       "      <td>0.49</td>\n",
       "      <td>0.89</td>\n",
       "      <td>-0.986467</td>\n",
       "      <td>0.668700</td>\n",
       "      <td>0.725229</td>\n",
       "      <td>2.478700</td>\n",
       "      <td>2.635229</td>\n",
       "    </tr>\n",
       "    <tr>\n",
       "      <th>6</th>\n",
       "      <td>2.0</td>\n",
       "      <td>1.6</td>\n",
       "      <td>0.19</td>\n",
       "      <td>-0.21</td>\n",
       "      <td>0.025592</td>\n",
       "      <td>-0.017348</td>\n",
       "      <td>-0.018814</td>\n",
       "      <td>1.792652</td>\n",
       "      <td>1.891186</td>\n",
       "    </tr>\n",
       "    <tr>\n",
       "      <th>7</th>\n",
       "      <td>1.0</td>\n",
       "      <td>1.1</td>\n",
       "      <td>-0.81</td>\n",
       "      <td>-0.71</td>\n",
       "      <td>1.071054</td>\n",
       "      <td>-0.726039</td>\n",
       "      <td>-0.787416</td>\n",
       "      <td>1.083961</td>\n",
       "      <td>1.122584</td>\n",
       "    </tr>\n",
       "    <tr>\n",
       "      <th>8</th>\n",
       "      <td>1.5</td>\n",
       "      <td>1.6</td>\n",
       "      <td>-0.31</td>\n",
       "      <td>-0.21</td>\n",
       "      <td>0.364528</td>\n",
       "      <td>-0.247104</td>\n",
       "      <td>-0.267993</td>\n",
       "      <td>1.562896</td>\n",
       "      <td>1.642007</td>\n",
       "    </tr>\n",
       "    <tr>\n",
       "      <th>9</th>\n",
       "      <td>1.1</td>\n",
       "      <td>0.9</td>\n",
       "      <td>-0.71</td>\n",
       "      <td>-0.91</td>\n",
       "      <td>1.150303</td>\n",
       "      <td>-0.779760</td>\n",
       "      <td>-0.845678</td>\n",
       "      <td>1.030240</td>\n",
       "      <td>1.064322</td>\n",
       "    </tr>\n",
       "  </tbody>\n",
       "</table>\n",
       "</div>"
      ],
      "text/plain": [
       "     x    y  x_adj  y_adj       FCP      x_br      y_br  x_br_baru  y_br_baru\n",
       "0  2.5  2.4   0.69   0.59 -0.901488  0.611095  0.662755   2.421095   2.572755\n",
       "1  0.5  0.7  -1.31  -1.11  1.704062 -1.155139 -1.252790   0.654861   0.657210\n",
       "2  2.2  2.9   0.39   1.09 -1.065715  0.722420  0.783491   2.532420   2.693491\n",
       "3  1.9  2.2   0.09   0.39 -0.347728  0.235716  0.255642   2.045716   2.165642\n",
       "4  3.1  3.0   1.29   1.19 -1.749319  1.185817  1.286062   2.995817   3.196062\n",
       "5  2.3  2.7   0.49   0.89 -0.986467  0.668700  0.725229   2.478700   2.635229\n",
       "6  2.0  1.6   0.19  -0.21  0.025592 -0.017348 -0.018814   1.792652   1.891186\n",
       "7  1.0  1.1  -0.81  -0.71  1.071054 -0.726039 -0.787416   1.083961   1.122584\n",
       "8  1.5  1.6  -0.31  -0.21  0.364528 -0.247104 -0.267993   1.562896   1.642007\n",
       "9  1.1  0.9  -0.71  -0.91  1.150303 -0.779760 -0.845678   1.030240   1.064322"
      ]
     },
     "execution_count": 138,
     "metadata": {},
     "output_type": "execute_result"
    }
   ],
   "source": [
    "df"
   ]
  },
  {
   "cell_type": "markdown",
   "metadata": {},
   "source": [
    "## Cara ML"
   ]
  },
  {
   "cell_type": "code",
   "execution_count": 139,
   "metadata": {},
   "outputs": [],
   "source": [
    "#import libraries PCA from sklearn\n",
    "\n",
    "from sklearn.decomposition import PCA"
   ]
  },
  {
   "cell_type": "code",
   "execution_count": 140,
   "metadata": {},
   "outputs": [],
   "source": [
    "x= df.iloc[:, [2,3]]"
   ]
  },
  {
   "cell_type": "code",
   "execution_count": 141,
   "metadata": {},
   "outputs": [
    {
     "data": {
      "text/html": [
       "<style>#sk-container-id-2 {color: black;background-color: white;}#sk-container-id-2 pre{padding: 0;}#sk-container-id-2 div.sk-toggleable {background-color: white;}#sk-container-id-2 label.sk-toggleable__label {cursor: pointer;display: block;width: 100%;margin-bottom: 0;padding: 0.3em;box-sizing: border-box;text-align: center;}#sk-container-id-2 label.sk-toggleable__label-arrow:before {content: \"▸\";float: left;margin-right: 0.25em;color: #696969;}#sk-container-id-2 label.sk-toggleable__label-arrow:hover:before {color: black;}#sk-container-id-2 div.sk-estimator:hover label.sk-toggleable__label-arrow:before {color: black;}#sk-container-id-2 div.sk-toggleable__content {max-height: 0;max-width: 0;overflow: hidden;text-align: left;background-color: #f0f8ff;}#sk-container-id-2 div.sk-toggleable__content pre {margin: 0.2em;color: black;border-radius: 0.25em;background-color: #f0f8ff;}#sk-container-id-2 input.sk-toggleable__control:checked~div.sk-toggleable__content {max-height: 200px;max-width: 100%;overflow: auto;}#sk-container-id-2 input.sk-toggleable__control:checked~label.sk-toggleable__label-arrow:before {content: \"▾\";}#sk-container-id-2 div.sk-estimator input.sk-toggleable__control:checked~label.sk-toggleable__label {background-color: #d4ebff;}#sk-container-id-2 div.sk-label input.sk-toggleable__control:checked~label.sk-toggleable__label {background-color: #d4ebff;}#sk-container-id-2 input.sk-hidden--visually {border: 0;clip: rect(1px 1px 1px 1px);clip: rect(1px, 1px, 1px, 1px);height: 1px;margin: -1px;overflow: hidden;padding: 0;position: absolute;width: 1px;}#sk-container-id-2 div.sk-estimator {font-family: monospace;background-color: #f0f8ff;border: 1px dotted black;border-radius: 0.25em;box-sizing: border-box;margin-bottom: 0.5em;}#sk-container-id-2 div.sk-estimator:hover {background-color: #d4ebff;}#sk-container-id-2 div.sk-parallel-item::after {content: \"\";width: 100%;border-bottom: 1px solid gray;flex-grow: 1;}#sk-container-id-2 div.sk-label:hover label.sk-toggleable__label {background-color: #d4ebff;}#sk-container-id-2 div.sk-serial::before {content: \"\";position: absolute;border-left: 1px solid gray;box-sizing: border-box;top: 0;bottom: 0;left: 50%;z-index: 0;}#sk-container-id-2 div.sk-serial {display: flex;flex-direction: column;align-items: center;background-color: white;padding-right: 0.2em;padding-left: 0.2em;position: relative;}#sk-container-id-2 div.sk-item {position: relative;z-index: 1;}#sk-container-id-2 div.sk-parallel {display: flex;align-items: stretch;justify-content: center;background-color: white;position: relative;}#sk-container-id-2 div.sk-item::before, #sk-container-id-2 div.sk-parallel-item::before {content: \"\";position: absolute;border-left: 1px solid gray;box-sizing: border-box;top: 0;bottom: 0;left: 50%;z-index: -1;}#sk-container-id-2 div.sk-parallel-item {display: flex;flex-direction: column;z-index: 1;position: relative;background-color: white;}#sk-container-id-2 div.sk-parallel-item:first-child::after {align-self: flex-end;width: 50%;}#sk-container-id-2 div.sk-parallel-item:last-child::after {align-self: flex-start;width: 50%;}#sk-container-id-2 div.sk-parallel-item:only-child::after {width: 0;}#sk-container-id-2 div.sk-dashed-wrapped {border: 1px dashed gray;margin: 0 0.4em 0.5em 0.4em;box-sizing: border-box;padding-bottom: 0.4em;background-color: white;}#sk-container-id-2 div.sk-label label {font-family: monospace;font-weight: bold;display: inline-block;line-height: 1.2em;}#sk-container-id-2 div.sk-label-container {text-align: center;}#sk-container-id-2 div.sk-container {/* jupyter's `normalize.less` sets `[hidden] { display: none; }` but bootstrap.min.css set `[hidden] { display: none !important; }` so we also need the `!important` here to be able to override the default hidden behavior on the sphinx rendered scikit-learn.org. See: https://github.com/scikit-learn/scikit-learn/issues/21755 */display: inline-block !important;position: relative;}#sk-container-id-2 div.sk-text-repr-fallback {display: none;}</style><div id=\"sk-container-id-2\" class=\"sk-top-container\"><div class=\"sk-text-repr-fallback\"><pre>PCA(n_components=1)</pre><b>In a Jupyter environment, please rerun this cell to show the HTML representation or trust the notebook. <br />On GitHub, the HTML representation is unable to render, please try loading this page with nbviewer.org.</b></div><div class=\"sk-container\" hidden><div class=\"sk-item\"><div class=\"sk-estimator sk-toggleable\"><input class=\"sk-toggleable__control sk-hidden--visually\" id=\"sk-estimator-id-2\" type=\"checkbox\" checked><label for=\"sk-estimator-id-2\" class=\"sk-toggleable__label sk-toggleable__label-arrow\">PCA</label><div class=\"sk-toggleable__content\"><pre>PCA(n_components=1)</pre></div></div></div></div></div>"
      ],
      "text/plain": [
       "PCA(n_components=1)"
      ]
     },
     "execution_count": 141,
     "metadata": {},
     "output_type": "execute_result"
    }
   ],
   "source": [
    "pca = PCA(n_components=1)\n",
    "pca.fit(x)"
   ]
  },
  {
   "cell_type": "code",
   "execution_count": 146,
   "metadata": {},
   "outputs": [
    {
     "name": "stdout",
     "output_type": "stream",
     "text": [
      "[[-0.6778734  -0.73517866]]\n",
      "[1.28402771]\n"
     ]
    }
   ],
   "source": [
    "print(pca.components_)\n",
    "print(pca.explained_variance_)"
   ]
  },
  {
   "cell_type": "code",
   "execution_count": 173,
   "metadata": {},
   "outputs": [],
   "source": [
    "x_PCA = pca.transform(x)"
   ]
  },
  {
   "cell_type": "code",
   "execution_count": 186,
   "metadata": {},
   "outputs": [
    {
     "data": {
      "text/plain": [
       "(10, 1)"
      ]
     },
     "execution_count": 186,
     "metadata": {},
     "output_type": "execute_result"
    }
   ],
   "source": [
    "x_PCA.shape"
   ]
  },
  {
   "cell_type": "code",
   "execution_count": 189,
   "metadata": {},
   "outputs": [
    {
     "data": {
      "text/html": [
       "<div>\n",
       "<style scoped>\n",
       "    .dataframe tbody tr th:only-of-type {\n",
       "        vertical-align: middle;\n",
       "    }\n",
       "\n",
       "    .dataframe tbody tr th {\n",
       "        vertical-align: top;\n",
       "    }\n",
       "\n",
       "    .dataframe thead th {\n",
       "        text-align: right;\n",
       "    }\n",
       "</style>\n",
       "<table border=\"1\" class=\"dataframe\">\n",
       "  <thead>\n",
       "    <tr style=\"text-align: right;\">\n",
       "      <th></th>\n",
       "      <th>PCA</th>\n",
       "    </tr>\n",
       "  </thead>\n",
       "  <tbody>\n",
       "    <tr>\n",
       "      <th>0</th>\n",
       "      <td>-0.827970</td>\n",
       "    </tr>\n",
       "    <tr>\n",
       "      <th>1</th>\n",
       "      <td>1.777580</td>\n",
       "    </tr>\n",
       "    <tr>\n",
       "      <th>2</th>\n",
       "      <td>-0.992197</td>\n",
       "    </tr>\n",
       "    <tr>\n",
       "      <th>3</th>\n",
       "      <td>-0.274210</td>\n",
       "    </tr>\n",
       "    <tr>\n",
       "      <th>4</th>\n",
       "      <td>-1.675801</td>\n",
       "    </tr>\n",
       "    <tr>\n",
       "      <th>5</th>\n",
       "      <td>-0.912949</td>\n",
       "    </tr>\n",
       "    <tr>\n",
       "      <th>6</th>\n",
       "      <td>0.099109</td>\n",
       "    </tr>\n",
       "    <tr>\n",
       "      <th>7</th>\n",
       "      <td>1.144572</td>\n",
       "    </tr>\n",
       "    <tr>\n",
       "      <th>8</th>\n",
       "      <td>0.438046</td>\n",
       "    </tr>\n",
       "    <tr>\n",
       "      <th>9</th>\n",
       "      <td>1.223821</td>\n",
       "    </tr>\n",
       "  </tbody>\n",
       "</table>\n",
       "</div>"
      ],
      "text/plain": [
       "        PCA\n",
       "0 -0.827970\n",
       "1  1.777580\n",
       "2 -0.992197\n",
       "3 -0.274210\n",
       "4 -1.675801\n",
       "5 -0.912949\n",
       "6  0.099109\n",
       "7  1.144572\n",
       "8  0.438046\n",
       "9  1.223821"
      ]
     },
     "execution_count": 189,
     "metadata": {},
     "output_type": "execute_result"
    }
   ],
   "source": [
    "pca_hasil = pd.DataFrame(x_PCA,columns=['PCA'])\n",
    "pca_hasil"
   ]
  },
  {
   "cell_type": "code",
   "execution_count": 190,
   "metadata": {},
   "outputs": [],
   "source": [
    "def data_baru4(x):\n",
    "    x = eigen_vec[:,1][0]*x\n",
    "    return x\n",
    "def data_baru5(y):\n",
    "    y =  eigen_vec[:,1][1]*y \n",
    "    return y"
   ]
  },
  {
   "cell_type": "code",
   "execution_count": 193,
   "metadata": {},
   "outputs": [
    {
     "name": "stderr",
     "output_type": "stream",
     "text": [
      "C:\\Users\\win10\\AppData\\Local\\Temp\\ipykernel_11956\\1532488631.py:1: SettingWithCopyWarning: \n",
      "A value is trying to be set on a copy of a slice from a DataFrame.\n",
      "Try using .loc[row_indexer,col_indexer] = value instead\n",
      "\n",
      "See the caveats in the documentation: https://pandas.pydata.org/pandas-docs/stable/user_guide/indexing.html#returning-a-view-versus-a-copy\n",
      "  x['x_br'] = pca_hasil.apply(data_baru4)\n",
      "C:\\Users\\win10\\AppData\\Local\\Temp\\ipykernel_11956\\1532488631.py:2: SettingWithCopyWarning: \n",
      "A value is trying to be set on a copy of a slice from a DataFrame.\n",
      "Try using .loc[row_indexer,col_indexer] = value instead\n",
      "\n",
      "See the caveats in the documentation: https://pandas.pydata.org/pandas-docs/stable/user_guide/indexing.html#returning-a-view-versus-a-copy\n",
      "  x['y_br'] = pca_hasil.apply(data_baru5)\n"
     ]
    }
   ],
   "source": [
    "x['x_br'] = pca_hasil.apply(data_baru4)\n",
    "x['y_br'] = pca_hasil.apply(data_baru5)"
   ]
  },
  {
   "cell_type": "code",
   "execution_count": 194,
   "metadata": {},
   "outputs": [
    {
     "data": {
      "text/html": [
       "<div>\n",
       "<style scoped>\n",
       "    .dataframe tbody tr th:only-of-type {\n",
       "        vertical-align: middle;\n",
       "    }\n",
       "\n",
       "    .dataframe tbody tr th {\n",
       "        vertical-align: top;\n",
       "    }\n",
       "\n",
       "    .dataframe thead th {\n",
       "        text-align: right;\n",
       "    }\n",
       "</style>\n",
       "<table border=\"1\" class=\"dataframe\">\n",
       "  <thead>\n",
       "    <tr style=\"text-align: right;\">\n",
       "      <th></th>\n",
       "      <th>x_adj</th>\n",
       "      <th>y_adj</th>\n",
       "      <th>x_PCA</th>\n",
       "      <th>x_br</th>\n",
       "      <th>y_br</th>\n",
       "    </tr>\n",
       "  </thead>\n",
       "  <tbody>\n",
       "    <tr>\n",
       "      <th>0</th>\n",
       "      <td>0.69</td>\n",
       "      <td>0.59</td>\n",
       "      <td>-0.827970</td>\n",
       "      <td>0.561259</td>\n",
       "      <td>0.608706</td>\n",
       "    </tr>\n",
       "    <tr>\n",
       "      <th>1</th>\n",
       "      <td>-1.31</td>\n",
       "      <td>-1.11</td>\n",
       "      <td>1.777580</td>\n",
       "      <td>-1.204974</td>\n",
       "      <td>-1.306839</td>\n",
       "    </tr>\n",
       "    <tr>\n",
       "      <th>2</th>\n",
       "      <td>0.39</td>\n",
       "      <td>1.09</td>\n",
       "      <td>-0.992197</td>\n",
       "      <td>0.672584</td>\n",
       "      <td>0.729442</td>\n",
       "    </tr>\n",
       "    <tr>\n",
       "      <th>3</th>\n",
       "      <td>0.09</td>\n",
       "      <td>0.39</td>\n",
       "      <td>-0.274210</td>\n",
       "      <td>0.185880</td>\n",
       "      <td>0.201594</td>\n",
       "    </tr>\n",
       "    <tr>\n",
       "      <th>4</th>\n",
       "      <td>1.29</td>\n",
       "      <td>1.19</td>\n",
       "      <td>-1.675801</td>\n",
       "      <td>1.135981</td>\n",
       "      <td>1.232013</td>\n",
       "    </tr>\n",
       "    <tr>\n",
       "      <th>5</th>\n",
       "      <td>0.49</td>\n",
       "      <td>0.89</td>\n",
       "      <td>-0.912949</td>\n",
       "      <td>0.618864</td>\n",
       "      <td>0.671181</td>\n",
       "    </tr>\n",
       "    <tr>\n",
       "      <th>6</th>\n",
       "      <td>0.19</td>\n",
       "      <td>-0.21</td>\n",
       "      <td>0.099109</td>\n",
       "      <td>-0.067184</td>\n",
       "      <td>-0.072863</td>\n",
       "    </tr>\n",
       "    <tr>\n",
       "      <th>7</th>\n",
       "      <td>-0.81</td>\n",
       "      <td>-0.71</td>\n",
       "      <td>1.144572</td>\n",
       "      <td>-0.775875</td>\n",
       "      <td>-0.841465</td>\n",
       "    </tr>\n",
       "    <tr>\n",
       "      <th>8</th>\n",
       "      <td>-0.31</td>\n",
       "      <td>-0.21</td>\n",
       "      <td>0.438046</td>\n",
       "      <td>-0.296940</td>\n",
       "      <td>-0.322042</td>\n",
       "    </tr>\n",
       "    <tr>\n",
       "      <th>9</th>\n",
       "      <td>-0.71</td>\n",
       "      <td>-0.91</td>\n",
       "      <td>1.223821</td>\n",
       "      <td>-0.829595</td>\n",
       "      <td>-0.899727</td>\n",
       "    </tr>\n",
       "  </tbody>\n",
       "</table>\n",
       "</div>"
      ],
      "text/plain": [
       "   x_adj  y_adj     x_PCA      x_br      y_br\n",
       "0   0.69   0.59 -0.827970  0.561259  0.608706\n",
       "1  -1.31  -1.11  1.777580 -1.204974 -1.306839\n",
       "2   0.39   1.09 -0.992197  0.672584  0.729442\n",
       "3   0.09   0.39 -0.274210  0.185880  0.201594\n",
       "4   1.29   1.19 -1.675801  1.135981  1.232013\n",
       "5   0.49   0.89 -0.912949  0.618864  0.671181\n",
       "6   0.19  -0.21  0.099109 -0.067184 -0.072863\n",
       "7  -0.81  -0.71  1.144572 -0.775875 -0.841465\n",
       "8  -0.31  -0.21  0.438046 -0.296940 -0.322042\n",
       "9  -0.71  -0.91  1.223821 -0.829595 -0.899727"
      ]
     },
     "execution_count": 194,
     "metadata": {},
     "output_type": "execute_result"
    }
   ],
   "source": [
    "x"
   ]
  },
  {
   "cell_type": "code",
   "execution_count": 154,
   "metadata": {},
   "outputs": [
    {
     "data": {
      "text/plain": [
       "array([-0.6778734 , -0.73517866])"
      ]
     },
     "execution_count": 154,
     "metadata": {},
     "output_type": "execute_result"
    }
   ],
   "source": [
    "eigen_vec[:,1]"
   ]
  },
  {
   "cell_type": "markdown",
   "metadata": {},
   "source": [
    "Hasil di atas sama dengan hasil yang kita peroleh dari perhitungan aljabar linear"
   ]
  },
  {
   "cell_type": "code",
   "execution_count": 199,
   "metadata": {},
   "outputs": [
    {
     "data": {
      "image/png": "[encoded data removed]",
      "text/plain": [
       "<Figure size 936x576 with 1 Axes>"
      ]
     },
     "metadata": {
      "needs_background": "light"
     },
     "output_type": "display_data"
    }
   ],
   "source": [
    "plt.figure(figsize=(13,8))\n",
    "c = np.linspace(-2,2,1000)\n",
    "plt.plot(0.6778734*c/0.73517866, c, ls = '--',color = 'brown', linewidth =1.3) #Principal component 1\n",
    "plt.scatter(x.iloc[:,0],x.iloc[:,1])\n",
    "plt.scatter(df['x_br'],df['y_br'],marker='D',color='red')\n",
    "plt.scatter(x['x_br'],x['y_br'],  marker='D',color='green')\n",
    "plt.quiver(0,0,pca.components_[:,0],pca.components_[:,1],scale = 3)\n",
    "plt.quiver(0,0,-eigen_vec[:,1][0],-eigen_vec[:,1][1],scale = 3, color = 'red')\n",
    "plt.show()"
   ]
  },
  {
   "cell_type": "markdown",
   "metadata": {},
   "source": [
    "Ini menarik. Hasil perhitungan numerik dan ML sama-sama memberikan sebaran data First principal Component $\\\\$\n",
    "yang berhimpitan dengan garis, tapi terdapat sedikit pergeseran antara \n",
    "diamond hijau dan merah.$\\\\$ Sementara itu, hasil vektor eigen vektor seharusnya diharapkan tumpang tindih dengan garis.\n"
   ]
  }
 ],
 "metadata": {
  "kernelspec": {
   "display_name": "Python 3.9.12 ('base')",
   "language": "python",
   "name": "python3"
  },
  "language_info": {
   "codemirror_mode": {
    "name": "ipython",
    "version": 3
   },
   "file_extension": ".py",
   "mimetype": "text/x-python",
   "name": "python",
   "nbconvert_exporter": "python",
   "pygments_lexer": "ipython3",
   "version": "3.9.12"
  },
  "orig_nbformat": 4,
  "vscode": {
   "interpreter": {
    "hash": "fea0466274de65d0a9646a58d55cd55c063d9d7e27ec3580f48562cf541cacfd"
   }
  }
 },
 "nbformat": 4,
 "nbformat_minor": 2
}
