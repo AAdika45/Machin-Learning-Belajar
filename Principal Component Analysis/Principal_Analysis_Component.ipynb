{
 "cells": [
  {
   "cell_type": "markdown",
   "metadata": {},
   "source": [
    "Created by: Aslamic Adika $\\\\$\n",
    "date      : 2022-08-30 19.15"
   ]
  },
  {
   "cell_type": "markdown",
   "metadata": {},
   "source": [
    "# Principal Analysis Component\n"
   ]
  },
  {
   "cell_type": "markdown",
   "metadata": {},
   "source": [
    "### Resource and idea\n",
    "ide dari PCA ini adalah melihat kontribusi variabel (kolom di dataset) sebanyak $p$ ($p$ dimensi),$\\\\$\n",
    "lalu mereduksinya menjadi $k$ dimensi yang lebih kecil (misal menjadi $2\\hspace{1mm}\\text{dimensi}$) $\\\\$\n",
    "sehingga terdapat $k$ variabel baru ($k\\hspace{1mm}\\text{dimensi}$) dimana $k$ variabel ini adalah dimensi paling minimum $\\\\$\n",
    " yang memberikan kontribusi variansi data terbesar."
   ]
  },
  {
   "cell_type": "markdown",
   "metadata": {},
   "source": [
    "untuk lebih detilnya liat lecture: https://www.youtube.com/watch?v=0vbTFaJm3jQ $\\\\$\n",
    "more explaination: $\\\\$ \n",
    "https://www.youtube.com/watch?v=FgakZw6K1QQ&t=301s $\\\\$ \n",
    "https://www.youtube.com/watch?v=nu2boMTKOFA $\\\\$\n",
    "https://www.youtube.com/watch?v=n7npKX5zIWI $\\\\$\n",
    "https://www.youtube.com/watch?v=L-pQtGm3VS8 $\\\\$\n",
    "for numerical example : https://www.youtube.com/watch?v=hkCT-6KJAK0 $\\\\$\n",
    "https://www.youtube.com/watch?v=MLaJbA82nzk \n"
   ]
  },
  {
   "cell_type": "code",
   "execution_count": 80,
   "metadata": {},
   "outputs": [],
   "source": [
    "import pandas as pd \n",
    "import numpy as np\n",
    "import seaborn as sns\n",
    "import matplotlib.pyplot as plt\n",
    "%matplotlib inline"
   ]
  },
  {
   "cell_type": "code",
   "execution_count": 81,
   "metadata": {},
   "outputs": [],
   "source": [
    "x = [2.5,0.5,2.2,1.9,3.1,2.3,2,1,1.5,1.1]\n",
    "y = [2.4,0.7,2.9,2.2,3.0,2.7,1.6,1.1,1.6,0.9]"
   ]
  },
  {
   "cell_type": "code",
   "execution_count": 82,
   "metadata": {},
   "outputs": [],
   "source": [
    "a = np.array([x,y])\n"
   ]
  },
  {
   "cell_type": "code",
   "execution_count": 83,
   "metadata": {},
   "outputs": [
    {
     "data": {
      "text/html": [
       "<div>\n",
       "<style scoped>\n",
       "    .dataframe tbody tr th:only-of-type {\n",
       "        vertical-align: middle;\n",
       "    }\n",
       "\n",
       "    .dataframe tbody tr th {\n",
       "        vertical-align: top;\n",
       "    }\n",
       "\n",
       "    .dataframe thead th {\n",
       "        text-align: right;\n",
       "    }\n",
       "</style>\n",
       "<table border=\"1\" class=\"dataframe\">\n",
       "  <thead>\n",
       "    <tr style=\"text-align: right;\">\n",
       "      <th></th>\n",
       "      <th>x</th>\n",
       "      <th>y</th>\n",
       "    </tr>\n",
       "  </thead>\n",
       "  <tbody>\n",
       "    <tr>\n",
       "      <th>0</th>\n",
       "      <td>2.5</td>\n",
       "      <td>2.4</td>\n",
       "    </tr>\n",
       "    <tr>\n",
       "      <th>1</th>\n",
       "      <td>0.5</td>\n",
       "      <td>0.7</td>\n",
       "    </tr>\n",
       "    <tr>\n",
       "      <th>2</th>\n",
       "      <td>2.2</td>\n",
       "      <td>2.9</td>\n",
       "    </tr>\n",
       "    <tr>\n",
       "      <th>3</th>\n",
       "      <td>1.9</td>\n",
       "      <td>2.2</td>\n",
       "    </tr>\n",
       "    <tr>\n",
       "      <th>4</th>\n",
       "      <td>3.1</td>\n",
       "      <td>3.0</td>\n",
       "    </tr>\n",
       "    <tr>\n",
       "      <th>5</th>\n",
       "      <td>2.3</td>\n",
       "      <td>2.7</td>\n",
       "    </tr>\n",
       "    <tr>\n",
       "      <th>6</th>\n",
       "      <td>2.0</td>\n",
       "      <td>1.6</td>\n",
       "    </tr>\n",
       "    <tr>\n",
       "      <th>7</th>\n",
       "      <td>1.0</td>\n",
       "      <td>1.1</td>\n",
       "    </tr>\n",
       "    <tr>\n",
       "      <th>8</th>\n",
       "      <td>1.5</td>\n",
       "      <td>1.6</td>\n",
       "    </tr>\n",
       "    <tr>\n",
       "      <th>9</th>\n",
       "      <td>1.1</td>\n",
       "      <td>0.9</td>\n",
       "    </tr>\n",
       "  </tbody>\n",
       "</table>\n",
       "</div>"
      ],
      "text/plain": [
       "     x    y\n",
       "0  2.5  2.4\n",
       "1  0.5  0.7\n",
       "2  2.2  2.9\n",
       "3  1.9  2.2\n",
       "4  3.1  3.0\n",
       "5  2.3  2.7\n",
       "6  2.0  1.6\n",
       "7  1.0  1.1\n",
       "8  1.5  1.6\n",
       "9  1.1  0.9"
      ]
     },
     "execution_count": 83,
     "metadata": {},
     "output_type": "execute_result"
    }
   ],
   "source": [
    "df = pd.DataFrame(a.T, columns=['x','y'])\n",
    "df"
   ]
  },
  {
   "cell_type": "markdown",
   "metadata": {},
   "source": [
    "## Data Adjust"
   ]
  },
  {
   "cell_type": "markdown",
   "metadata": {},
   "source": [
    "StandardScaller, data ke-$z$: $z_i = \\frac{x_i - \\bar{x}}{s}$ $\\\\$ $\\\\$\n",
    "di mana rata-rata: $\\bar{x} = \\frac{1}{n}\\sum_1^n x_i$ dan standar deviasi sampel: $s = \\sqrt{\\frac{1}{n-1}\\sum_1^n \\left(x_i - \\bar{x} \\right)^2}$"
   ]
  },
  {
   "cell_type": "code",
   "execution_count": 84,
   "metadata": {},
   "outputs": [],
   "source": [
    "from sklearn.preprocessing import StandardScaler\n",
    "standar = StandardScaler()\n"
   ]
  },
  {
   "cell_type": "code",
   "execution_count": 85,
   "metadata": {},
   "outputs": [
    {
     "data": {
      "text/html": [
       "<div>\n",
       "<style scoped>\n",
       "    .dataframe tbody tr th:only-of-type {\n",
       "        vertical-align: middle;\n",
       "    }\n",
       "\n",
       "    .dataframe tbody tr th {\n",
       "        vertical-align: top;\n",
       "    }\n",
       "\n",
       "    .dataframe thead th {\n",
       "        text-align: right;\n",
       "    }\n",
       "</style>\n",
       "<table border=\"1\" class=\"dataframe\">\n",
       "  <thead>\n",
       "    <tr style=\"text-align: right;\">\n",
       "      <th></th>\n",
       "      <th>x</th>\n",
       "      <th>y</th>\n",
       "    </tr>\n",
       "  </thead>\n",
       "  <tbody>\n",
       "    <tr>\n",
       "      <th>0</th>\n",
       "      <td>0.926279</td>\n",
       "      <td>0.610169</td>\n",
       "    </tr>\n",
       "    <tr>\n",
       "      <th>1</th>\n",
       "      <td>-1.758587</td>\n",
       "      <td>-1.506743</td>\n",
       "    </tr>\n",
       "    <tr>\n",
       "      <th>2</th>\n",
       "      <td>0.523549</td>\n",
       "      <td>1.232790</td>\n",
       "    </tr>\n",
       "    <tr>\n",
       "      <th>3</th>\n",
       "      <td>0.120819</td>\n",
       "      <td>0.361120</td>\n",
       "    </tr>\n",
       "    <tr>\n",
       "      <th>4</th>\n",
       "      <td>1.731739</td>\n",
       "      <td>1.357314</td>\n",
       "    </tr>\n",
       "    <tr>\n",
       "      <th>5</th>\n",
       "      <td>0.657792</td>\n",
       "      <td>0.983741</td>\n",
       "    </tr>\n",
       "    <tr>\n",
       "      <th>6</th>\n",
       "      <td>0.255062</td>\n",
       "      <td>-0.386025</td>\n",
       "    </tr>\n",
       "    <tr>\n",
       "      <th>7</th>\n",
       "      <td>-1.087371</td>\n",
       "      <td>-1.008646</td>\n",
       "    </tr>\n",
       "    <tr>\n",
       "      <th>8</th>\n",
       "      <td>-0.416154</td>\n",
       "      <td>-0.386025</td>\n",
       "    </tr>\n",
       "    <tr>\n",
       "      <th>9</th>\n",
       "      <td>-0.953127</td>\n",
       "      <td>-1.257695</td>\n",
       "    </tr>\n",
       "  </tbody>\n",
       "</table>\n",
       "</div>"
      ],
      "text/plain": [
       "          x         y\n",
       "0  0.926279  0.610169\n",
       "1 -1.758587 -1.506743\n",
       "2  0.523549  1.232790\n",
       "3  0.120819  0.361120\n",
       "4  1.731739  1.357314\n",
       "5  0.657792  0.983741\n",
       "6  0.255062 -0.386025\n",
       "7 -1.087371 -1.008646\n",
       "8 -0.416154 -0.386025\n",
       "9 -0.953127 -1.257695"
      ]
     },
     "execution_count": 85,
     "metadata": {},
     "output_type": "execute_result"
    }
   ],
   "source": [
    "data_stadard = pd.DataFrame(standar.fit_transform(df[['x','y']]), columns= df.columns)\n",
    "data_stadard "
   ]
  },
  {
   "cell_type": "code",
   "execution_count": 86,
   "metadata": {},
   "outputs": [
    {
     "data": {
      "text/plain": [
       "<matplotlib.collections.PathCollection at 0x15f0e280310>"
      ]
     },
     "execution_count": 86,
     "metadata": {},
     "output_type": "execute_result"
    },
    {
     "data": {
      "image/png": "[encoded data removed]",
      "text/plain": [
       "<Figure size 432x288 with 1 Axes>"
      ]
     },
     "metadata": {
      "needs_background": "light"
     },
     "output_type": "display_data"
    }
   ],
   "source": [
    "plt.scatter(df.iloc[:,0],df.iloc[:,1])"
   ]
  },
  {
   "cell_type": "markdown",
   "metadata": {},
   "source": [
    "### Calculate the covariance matrix\n",
    "$\\begin{equation}  C = \\begin{bmatrix}      C(x,x) & C(x,y) \\\\ C(y,x) & C(y,y)              \\end{bmatrix}\\end{equation}$ $\\\\$\n",
    "di mana $C(x,y) =  \\frac{1}{n-1}\\sum_1^n \\left(x_i - \\bar{x} \\right)\\left(y_i - \\bar{y} \\right)  $ $\\\\$\n",
    "merupakan covariance matrix sampel"
   ]
  },
  {
   "cell_type": "code",
   "execution_count": 87,
   "metadata": {},
   "outputs": [],
   "source": [
    "z = np.mean(x)\n",
    "w = np.mean(y)"
   ]
  },
  {
   "cell_type": "code",
   "execution_count": 88,
   "metadata": {},
   "outputs": [
    {
     "data": {
      "text/html": [
       "<div>\n",
       "<style scoped>\n",
       "    .dataframe tbody tr th:only-of-type {\n",
       "        vertical-align: middle;\n",
       "    }\n",
       "\n",
       "    .dataframe tbody tr th {\n",
       "        vertical-align: top;\n",
       "    }\n",
       "\n",
       "    .dataframe thead th {\n",
       "        text-align: right;\n",
       "    }\n",
       "</style>\n",
       "<table border=\"1\" class=\"dataframe\">\n",
       "  <thead>\n",
       "    <tr style=\"text-align: right;\">\n",
       "      <th></th>\n",
       "      <th>x</th>\n",
       "      <th>y</th>\n",
       "      <th>x_adj</th>\n",
       "      <th>y_adj</th>\n",
       "    </tr>\n",
       "  </thead>\n",
       "  <tbody>\n",
       "    <tr>\n",
       "      <th>0</th>\n",
       "      <td>2.5</td>\n",
       "      <td>2.4</td>\n",
       "      <td>0.69</td>\n",
       "      <td>0.59</td>\n",
       "    </tr>\n",
       "    <tr>\n",
       "      <th>1</th>\n",
       "      <td>0.5</td>\n",
       "      <td>0.7</td>\n",
       "      <td>-1.31</td>\n",
       "      <td>-1.11</td>\n",
       "    </tr>\n",
       "    <tr>\n",
       "      <th>2</th>\n",
       "      <td>2.2</td>\n",
       "      <td>2.9</td>\n",
       "      <td>0.39</td>\n",
       "      <td>1.09</td>\n",
       "    </tr>\n",
       "    <tr>\n",
       "      <th>3</th>\n",
       "      <td>1.9</td>\n",
       "      <td>2.2</td>\n",
       "      <td>0.09</td>\n",
       "      <td>0.39</td>\n",
       "    </tr>\n",
       "    <tr>\n",
       "      <th>4</th>\n",
       "      <td>3.1</td>\n",
       "      <td>3.0</td>\n",
       "      <td>1.29</td>\n",
       "      <td>1.19</td>\n",
       "    </tr>\n",
       "    <tr>\n",
       "      <th>5</th>\n",
       "      <td>2.3</td>\n",
       "      <td>2.7</td>\n",
       "      <td>0.49</td>\n",
       "      <td>0.89</td>\n",
       "    </tr>\n",
       "    <tr>\n",
       "      <th>6</th>\n",
       "      <td>2.0</td>\n",
       "      <td>1.6</td>\n",
       "      <td>0.19</td>\n",
       "      <td>-0.21</td>\n",
       "    </tr>\n",
       "    <tr>\n",
       "      <th>7</th>\n",
       "      <td>1.0</td>\n",
       "      <td>1.1</td>\n",
       "      <td>-0.81</td>\n",
       "      <td>-0.71</td>\n",
       "    </tr>\n",
       "    <tr>\n",
       "      <th>8</th>\n",
       "      <td>1.5</td>\n",
       "      <td>1.6</td>\n",
       "      <td>-0.31</td>\n",
       "      <td>-0.21</td>\n",
       "    </tr>\n",
       "    <tr>\n",
       "      <th>9</th>\n",
       "      <td>1.1</td>\n",
       "      <td>0.9</td>\n",
       "      <td>-0.71</td>\n",
       "      <td>-0.91</td>\n",
       "    </tr>\n",
       "  </tbody>\n",
       "</table>\n",
       "</div>"
      ],
      "text/plain": [
       "     x    y  x_adj  y_adj\n",
       "0  2.5  2.4   0.69   0.59\n",
       "1  0.5  0.7  -1.31  -1.11\n",
       "2  2.2  2.9   0.39   1.09\n",
       "3  1.9  2.2   0.09   0.39\n",
       "4  3.1  3.0   1.29   1.19\n",
       "5  2.3  2.7   0.49   0.89\n",
       "6  2.0  1.6   0.19  -0.21\n",
       "7  1.0  1.1  -0.81  -0.71\n",
       "8  1.5  1.6  -0.31  -0.21\n",
       "9  1.1  0.9  -0.71  -0.91"
      ]
     },
     "execution_count": 88,
     "metadata": {},
     "output_type": "execute_result"
    }
   ],
   "source": [
    "df['x_adj'] = df['x'].map(lambda x: x-z)\n",
    "df['y_adj'] = df['y'].map(lambda d: d-z)\n",
    "df"
   ]
  },
  {
   "cell_type": "code",
   "execution_count": 89,
   "metadata": {},
   "outputs": [
    {
     "data": {
      "text/plain": [
       "(-2.0, 2.0)"
      ]
     },
     "execution_count": 89,
     "metadata": {},
     "output_type": "execute_result"
    },
    {
     "data": {
      "image/png": "[encoded data removed]",
      "text/plain": [
       "<Figure size 432x288 with 1 Axes>"
      ]
     },
     "metadata": {
      "needs_background": "light"
     },
     "output_type": "display_data"
    }
   ],
   "source": [
    "plt.scatter(df.iloc[:,2],df.iloc[:,3],)\n",
    "plt.xlim(-2,2)\n",
    "# sns.regplot(df.iloc[:,2],df.iloc[:,3])\n",
    "plt.axhline(linewidth = 0.68, color = 'black')\n",
    "plt.axvline(linewidth = 0.68, color = 'black')\n",
    "plt.ylim(-2,2)"
   ]
  },
  {
   "cell_type": "code",
   "execution_count": 90,
   "metadata": {},
   "outputs": [
    {
     "data": {
      "text/plain": [
       "array([[0.61655556, 0.61544444],\n",
       "       [0.61544444, 0.71655556]])"
      ]
     },
     "execution_count": 90,
     "metadata": {},
     "output_type": "execute_result"
    }
   ],
   "source": [
    "Cov_xy_baru = np.cov(df.iloc[:,2],df.iloc[:,3])\n",
    "Cov_xy_baru"
   ]
  },
  {
   "cell_type": "code",
   "execution_count": 91,
   "metadata": {},
   "outputs": [],
   "source": [
    "from numpy import linalg as la"
   ]
  },
  {
   "cell_type": "code",
   "execution_count": 92,
   "metadata": {},
   "outputs": [
    {
     "data": {
      "text/plain": [
       "array([0.0490834 , 1.28402771])"
      ]
     },
     "execution_count": 92,
     "metadata": {},
     "output_type": "execute_result"
    }
   ],
   "source": [
    "eigen_val, eigen_vec = la.eig(Cov_xy_baru)\n",
    "eigen_val"
   ]
  },
  {
   "cell_type": "code",
   "execution_count": 93,
   "metadata": {},
   "outputs": [
    {
     "data": {
      "text/plain": [
       "array([[-0.73517866, -0.6778734 ],\n",
       "       [ 0.6778734 , -0.73517866]])"
      ]
     },
     "execution_count": 93,
     "metadata": {},
     "output_type": "execute_result"
    }
   ],
   "source": [
    "eigen_vec"
   ]
  },
  {
   "cell_type": "code",
   "execution_count": 94,
   "metadata": {},
   "outputs": [
    {
     "data": {
      "image/png": "[encoded data removed]",
      "text/plain": [
       "<Figure size 648x360 with 1 Axes>"
      ]
     },
     "metadata": {
      "needs_background": "light"
     },
     "output_type": "display_data"
    }
   ],
   "source": [
    "\n",
    "c = np.linspace(-2,2,1000)\n",
    "plt.figure(figsize=(9,5))\n",
    "plt.plot(-0.73517866*c/0.6778734,c, ls = '--',color = 'red', linewidth =1.3)\n",
    "plt.plot(0.6778734*c/0.73517866,c, ls = '--',color = 'blue', linewidth =1.3) #Principal component 1\n",
    "plt.scatter(df.iloc[:,2],df.iloc[:,3], marker='D',color='green')\n",
    "plt.grid(True)\n",
    "plt.axvline(x=0, c=\"black\", label=\"x=0\", ls = '--', linewidth = 0.8)\n",
    "plt.axhline(y=0, c=\"black\", label=\"y=0\", ls = '--',linewidth = 0.8)\n",
    "plt.xlim(-2,2)\n",
    "plt.ylim(-2,2)\n",
    "plt.show()\n"
   ]
  },
  {
   "cell_type": "markdown",
   "metadata": {},
   "source": [
    "Dar gambar di atas, principal component pertama adalah garis biru (eigen value dengan nilai tertinggi). Sehingga sekarang dengan satu garis (1 dimensi) $\\\\$\n",
    "kita dapatkan dimensi yang lebih kecil"
   ]
  },
  {
   "cell_type": "markdown",
   "metadata": {},
   "source": [
    "#### chose feature vector\n",
    "\n",
    "$feature\\hspace{1mm}vector = \\left\\lbrace \\lambda_1,\\lambda_2,\\lambda_3,\\dots, \\lambda_p \\right\\rbrace $ $\\\\$\n",
    "where $\\lambda_1 \\geq \\lambda_2 \\geq\\lambda_3 \\geq\\dots \\geq\\lambda_p$"
   ]
  },
  {
   "cell_type": "code",
   "execution_count": 95,
   "metadata": {},
   "outputs": [
    {
     "data": {
      "text/plain": [
       "array([0.0490834 , 1.28402771])"
      ]
     },
     "execution_count": 95,
     "metadata": {},
     "output_type": "execute_result"
    }
   ],
   "source": [
    "eigen_val"
   ]
  },
  {
   "cell_type": "code",
   "execution_count": 96,
   "metadata": {},
   "outputs": [
    {
     "data": {
      "text/plain": [
       "array([[-0.73517866, -0.6778734 ],\n",
       "       [ 0.6778734 , -0.73517866]])"
      ]
     },
     "execution_count": 96,
     "metadata": {},
     "output_type": "execute_result"
    }
   ],
   "source": [
    "eigen_vec"
   ]
  },
  {
   "cell_type": "code",
   "execution_count": 97,
   "metadata": {},
   "outputs": [
    {
     "data": {
      "text/plain": [
       "array([-0.73517866,  0.6778734 ])"
      ]
     },
     "execution_count": 97,
     "metadata": {},
     "output_type": "execute_result"
    }
   ],
   "source": [
    "eigen_vec[:,0]"
   ]
  },
  {
   "cell_type": "code",
   "execution_count": 98,
   "metadata": {},
   "outputs": [
    {
     "data": {
      "text/plain": [
       "array([-0.6778734 , -0.73517866])"
      ]
     },
     "execution_count": 98,
     "metadata": {},
     "output_type": "execute_result"
    }
   ],
   "source": [
    "eigen_vec[:,1]"
   ]
  },
  {
   "cell_type": "markdown",
   "metadata": {},
   "source": [
    "Since eigen function is $(C-\\lambda_1 I)u_1 = 0$, maka kita bisa mengeset elemen eigen vektor  dikali $-1 \\\\$ agar elemen eigen vektor yang negatif menjadi positif."
   ]
  },
  {
   "cell_type": "markdown",
   "metadata": {},
   "source": [
    "mengingat eigen value terbesar adalah $\\lambda_1 =  1.28402771$, dengan kontribusi data sebesar: $\\\\$\n",
    "$1.28402771/( 1.28402771 + 0.0490834) \\approx 96.31\\% $, $\\lambda_1$ juga membuat eigen vector $u_1 =  \\begin{bmatrix}-0.73517866   \\\\-0.6778734\\end{bmatrix} $ atau kita pilih yang elemennya positif $ u_1 =\\begin{bmatrix}0.73517866   \\\\0.6778734\\end{bmatrix}$ $\\\\$ sehingga Principal Component pertama adalah $u_1$"
   ]
  },
  {
   "cell_type": "markdown",
   "metadata": {},
   "source": [
    "### Deriving new dataset"
   ]
  },
  {
   "cell_type": "markdown",
   "metadata": {},
   "source": [
    "$Final\\hspace{1mm} = u_1^T df[X_{baru}]^T$"
   ]
  },
  {
   "cell_type": "markdown",
   "metadata": {},
   "source": [
    "#### First principal component"
   ]
  },
  {
   "cell_type": "code",
   "execution_count": 99,
   "metadata": {},
   "outputs": [
    {
     "data": {
      "text/plain": [
       "-0.9014880517555286"
      ]
     },
     "execution_count": 99,
     "metadata": {},
     "output_type": "execute_result"
    }
   ],
   "source": [
    "np.matmul(eigen_vec[:,1].T, np.array([df.iloc[0,2],df.iloc[0,3]])) #mengecek satu value di FCP"
   ]
  },
  {
   "cell_type": "code",
   "execution_count": 100,
   "metadata": {},
   "outputs": [],
   "source": [
    "# kita bikin loop untuk menghitung setiap nilai di FCP\n",
    "FCP = []\n",
    "def fcp(data):\n",
    "    for i in range(0,len(data)):\n",
    "        l = np.matmul(eigen_vec[:,1].T, np.array([data.iloc[i,2],data.iloc[i,3]]))\n",
    "        k = l.item() #convert array to scalar value\n",
    "        FCP.append(k)\n",
    "    print('FCP = ', FCP)\n",
    "    "
   ]
  },
  {
   "cell_type": "code",
   "execution_count": 101,
   "metadata": {},
   "outputs": [
    {
     "name": "stdout",
     "output_type": "stream",
     "text": [
      "FCP =  [-0.9014880517555286, 1.7040624597259884, -1.0657153599693292, -0.34772828152984014, -1.7493192841989806, -0.9864669687132487, 0.025591571944003466, 1.0710542982442193, 0.3645282712080093, 1.1503026895002995]\n"
     ]
    }
   ],
   "source": [
    "fcp(df)"
   ]
  },
  {
   "cell_type": "code",
   "execution_count": 102,
   "metadata": {},
   "outputs": [],
   "source": [
    "df['FCP'] = FCP #data dari first principal component"
   ]
  },
  {
   "cell_type": "code",
   "execution_count": 103,
   "metadata": {},
   "outputs": [
    {
     "data": {
      "text/html": [
       "<div>\n",
       "<style scoped>\n",
       "    .dataframe tbody tr th:only-of-type {\n",
       "        vertical-align: middle;\n",
       "    }\n",
       "\n",
       "    .dataframe tbody tr th {\n",
       "        vertical-align: top;\n",
       "    }\n",
       "\n",
       "    .dataframe thead th {\n",
       "        text-align: right;\n",
       "    }\n",
       "</style>\n",
       "<table border=\"1\" class=\"dataframe\">\n",
       "  <thead>\n",
       "    <tr style=\"text-align: right;\">\n",
       "      <th></th>\n",
       "      <th>x</th>\n",
       "      <th>y</th>\n",
       "      <th>x_adj</th>\n",
       "      <th>y_adj</th>\n",
       "      <th>FCP</th>\n",
       "    </tr>\n",
       "  </thead>\n",
       "  <tbody>\n",
       "    <tr>\n",
       "      <th>0</th>\n",
       "      <td>2.5</td>\n",
       "      <td>2.4</td>\n",
       "      <td>0.69</td>\n",
       "      <td>0.59</td>\n",
       "      <td>-0.901488</td>\n",
       "    </tr>\n",
       "    <tr>\n",
       "      <th>1</th>\n",
       "      <td>0.5</td>\n",
       "      <td>0.7</td>\n",
       "      <td>-1.31</td>\n",
       "      <td>-1.11</td>\n",
       "      <td>1.704062</td>\n",
       "    </tr>\n",
       "    <tr>\n",
       "      <th>2</th>\n",
       "      <td>2.2</td>\n",
       "      <td>2.9</td>\n",
       "      <td>0.39</td>\n",
       "      <td>1.09</td>\n",
       "      <td>-1.065715</td>\n",
       "    </tr>\n",
       "    <tr>\n",
       "      <th>3</th>\n",
       "      <td>1.9</td>\n",
       "      <td>2.2</td>\n",
       "      <td>0.09</td>\n",
       "      <td>0.39</td>\n",
       "      <td>-0.347728</td>\n",
       "    </tr>\n",
       "    <tr>\n",
       "      <th>4</th>\n",
       "      <td>3.1</td>\n",
       "      <td>3.0</td>\n",
       "      <td>1.29</td>\n",
       "      <td>1.19</td>\n",
       "      <td>-1.749319</td>\n",
       "    </tr>\n",
       "    <tr>\n",
       "      <th>5</th>\n",
       "      <td>2.3</td>\n",
       "      <td>2.7</td>\n",
       "      <td>0.49</td>\n",
       "      <td>0.89</td>\n",
       "      <td>-0.986467</td>\n",
       "    </tr>\n",
       "    <tr>\n",
       "      <th>6</th>\n",
       "      <td>2.0</td>\n",
       "      <td>1.6</td>\n",
       "      <td>0.19</td>\n",
       "      <td>-0.21</td>\n",
       "      <td>0.025592</td>\n",
       "    </tr>\n",
       "    <tr>\n",
       "      <th>7</th>\n",
       "      <td>1.0</td>\n",
       "      <td>1.1</td>\n",
       "      <td>-0.81</td>\n",
       "      <td>-0.71</td>\n",
       "      <td>1.071054</td>\n",
       "    </tr>\n",
       "    <tr>\n",
       "      <th>8</th>\n",
       "      <td>1.5</td>\n",
       "      <td>1.6</td>\n",
       "      <td>-0.31</td>\n",
       "      <td>-0.21</td>\n",
       "      <td>0.364528</td>\n",
       "    </tr>\n",
       "    <tr>\n",
       "      <th>9</th>\n",
       "      <td>1.1</td>\n",
       "      <td>0.9</td>\n",
       "      <td>-0.71</td>\n",
       "      <td>-0.91</td>\n",
       "      <td>1.150303</td>\n",
       "    </tr>\n",
       "  </tbody>\n",
       "</table>\n",
       "</div>"
      ],
      "text/plain": [
       "     x    y  x_adj  y_adj       FCP\n",
       "0  2.5  2.4   0.69   0.59 -0.901488\n",
       "1  0.5  0.7  -1.31  -1.11  1.704062\n",
       "2  2.2  2.9   0.39   1.09 -1.065715\n",
       "3  1.9  2.2   0.09   0.39 -0.347728\n",
       "4  3.1  3.0   1.29   1.19 -1.749319\n",
       "5  2.3  2.7   0.49   0.89 -0.986467\n",
       "6  2.0  1.6   0.19  -0.21  0.025592\n",
       "7  1.0  1.1  -0.81  -0.71  1.071054\n",
       "8  1.5  1.6  -0.31  -0.21  0.364528\n",
       "9  1.1  0.9  -0.71  -0.91  1.150303"
      ]
     },
     "execution_count": 103,
     "metadata": {},
     "output_type": "execute_result"
    }
   ],
   "source": [
    "df"
   ]
  },
  {
   "cell_type": "markdown",
   "metadata": {},
   "source": [
    "data FCP adalah data yang tersebar di sepanjangan First Component (yaitu $\\lambda_1$ dan $u_1$) $\\\\$\n",
    "Menging"
   ]
  },
  {
   "cell_type": "code",
   "execution_count": null,
   "metadata": {},
   "outputs": [],
   "source": []
  },
  {
   "cell_type": "code",
   "execution_count": null,
   "metadata": {},
   "outputs": [],
   "source": []
  },
  {
   "cell_type": "code",
   "execution_count": null,
   "metadata": {},
   "outputs": [],
   "source": []
  },
  {
   "cell_type": "code",
   "execution_count": 133,
   "metadata": {},
   "outputs": [],
   "source": [
    "from sklearn.decomposition import PCA"
   ]
  },
  {
   "cell_type": "code",
   "execution_count": 142,
   "metadata": {},
   "outputs": [],
   "source": [
    "x= df.iloc[:, [2,3]]"
   ]
  },
  {
   "cell_type": "code",
   "execution_count": 144,
   "metadata": {},
   "outputs": [
    {
     "data": {
      "text/html": [
       "<style>#sk-container-id-1 {color: black;background-color: white;}#sk-container-id-1 pre{padding: 0;}#sk-container-id-1 div.sk-toggleable {background-color: white;}#sk-container-id-1 label.sk-toggleable__label {cursor: pointer;display: block;width: 100%;margin-bottom: 0;padding: 0.3em;box-sizing: border-box;text-align: center;}#sk-container-id-1 label.sk-toggleable__label-arrow:before {content: \"▸\";float: left;margin-right: 0.25em;color: #696969;}#sk-container-id-1 label.sk-toggleable__label-arrow:hover:before {color: black;}#sk-container-id-1 div.sk-estimator:hover label.sk-toggleable__label-arrow:before {color: black;}#sk-container-id-1 div.sk-toggleable__content {max-height: 0;max-width: 0;overflow: hidden;text-align: left;background-color: #f0f8ff;}#sk-container-id-1 div.sk-toggleable__content pre {margin: 0.2em;color: black;border-radius: 0.25em;background-color: #f0f8ff;}#sk-container-id-1 input.sk-toggleable__control:checked~div.sk-toggleable__content {max-height: 200px;max-width: 100%;overflow: auto;}#sk-container-id-1 input.sk-toggleable__control:checked~label.sk-toggleable__label-arrow:before {content: \"▾\";}#sk-container-id-1 div.sk-estimator input.sk-toggleable__control:checked~label.sk-toggleable__label {background-color: #d4ebff;}#sk-container-id-1 div.sk-label input.sk-toggleable__control:checked~label.sk-toggleable__label {background-color: #d4ebff;}#sk-container-id-1 input.sk-hidden--visually {border: 0;clip: rect(1px 1px 1px 1px);clip: rect(1px, 1px, 1px, 1px);height: 1px;margin: -1px;overflow: hidden;padding: 0;position: absolute;width: 1px;}#sk-container-id-1 div.sk-estimator {font-family: monospace;background-color: #f0f8ff;border: 1px dotted black;border-radius: 0.25em;box-sizing: border-box;margin-bottom: 0.5em;}#sk-container-id-1 div.sk-estimator:hover {background-color: #d4ebff;}#sk-container-id-1 div.sk-parallel-item::after {content: \"\";width: 100%;border-bottom: 1px solid gray;flex-grow: 1;}#sk-container-id-1 div.sk-label:hover label.sk-toggleable__label {background-color: #d4ebff;}#sk-container-id-1 div.sk-serial::before {content: \"\";position: absolute;border-left: 1px solid gray;box-sizing: border-box;top: 0;bottom: 0;left: 50%;z-index: 0;}#sk-container-id-1 div.sk-serial {display: flex;flex-direction: column;align-items: center;background-color: white;padding-right: 0.2em;padding-left: 0.2em;position: relative;}#sk-container-id-1 div.sk-item {position: relative;z-index: 1;}#sk-container-id-1 div.sk-parallel {display: flex;align-items: stretch;justify-content: center;background-color: white;position: relative;}#sk-container-id-1 div.sk-item::before, #sk-container-id-1 div.sk-parallel-item::before {content: \"\";position: absolute;border-left: 1px solid gray;box-sizing: border-box;top: 0;bottom: 0;left: 50%;z-index: -1;}#sk-container-id-1 div.sk-parallel-item {display: flex;flex-direction: column;z-index: 1;position: relative;background-color: white;}#sk-container-id-1 div.sk-parallel-item:first-child::after {align-self: flex-end;width: 50%;}#sk-container-id-1 div.sk-parallel-item:last-child::after {align-self: flex-start;width: 50%;}#sk-container-id-1 div.sk-parallel-item:only-child::after {width: 0;}#sk-container-id-1 div.sk-dashed-wrapped {border: 1px dashed gray;margin: 0 0.4em 0.5em 0.4em;box-sizing: border-box;padding-bottom: 0.4em;background-color: white;}#sk-container-id-1 div.sk-label label {font-family: monospace;font-weight: bold;display: inline-block;line-height: 1.2em;}#sk-container-id-1 div.sk-label-container {text-align: center;}#sk-container-id-1 div.sk-container {/* jupyter's `normalize.less` sets `[hidden] { display: none; }` but bootstrap.min.css set `[hidden] { display: none !important; }` so we also need the `!important` here to be able to override the default hidden behavior on the sphinx rendered scikit-learn.org. See: https://github.com/scikit-learn/scikit-learn/issues/21755 */display: inline-block !important;position: relative;}#sk-container-id-1 div.sk-text-repr-fallback {display: none;}</style><div id=\"sk-container-id-1\" class=\"sk-top-container\"><div class=\"sk-text-repr-fallback\"><pre>PCA(n_components=1)</pre><b>In a Jupyter environment, please rerun this cell to show the HTML representation or trust the notebook. <br />On GitHub, the HTML representation is unable to render, please try loading this page with nbviewer.org.</b></div><div class=\"sk-container\" hidden><div class=\"sk-item\"><div class=\"sk-estimator sk-toggleable\"><input class=\"sk-toggleable__control sk-hidden--visually\" id=\"sk-estimator-id-1\" type=\"checkbox\" checked><label for=\"sk-estimator-id-1\" class=\"sk-toggleable__label sk-toggleable__label-arrow\">PCA</label><div class=\"sk-toggleable__content\"><pre>PCA(n_components=1)</pre></div></div></div></div></div>"
      ],
      "text/plain": [
       "PCA(n_components=1)"
      ]
     },
     "execution_count": 144,
     "metadata": {},
     "output_type": "execute_result"
    }
   ],
   "source": [
    "pca = PCA(n_components=1)\n",
    "pca.fit(x)"
   ]
  },
  {
   "cell_type": "code",
   "execution_count": 147,
   "metadata": {},
   "outputs": [
    {
     "name": "stdout",
     "output_type": "stream",
     "text": [
      "eigen value [1.28402771]\n",
      "eigen vector [[-0.6778734  -0.73517866]]\n"
     ]
    }
   ],
   "source": [
    "print('eigen value', pca.explained_variance_)\n",
    "print('eigen vector', pca.components_)\n"
   ]
  },
  {
   "cell_type": "markdown",
   "metadata": {},
   "source": [
    "Hasil di atas sama dengan hasil yang kita peroleh dari perhitungan aljabar linear"
   ]
  },
  {
   "cell_type": "code",
   "execution_count": 158,
   "metadata": {},
   "outputs": [
    {
     "data": {
      "image/png": "[encoded data removed]",
      "text/plain": [
       "<Figure size 432x288 with 1 Axes>"
      ]
     },
     "metadata": {
      "needs_background": "light"
     },
     "output_type": "display_data"
    }
   ],
   "source": [
    "plt.scatter(x.iloc[:,0],x.iloc[:,1])\n",
    "plt.show()"
   ]
  },
  {
   "cell_type": "markdown",
   "metadata": {},
   "source": [
    "# Contoh Kedua"
   ]
  },
  {
   "cell_type": "code",
   "execution_count": 104,
   "metadata": {},
   "outputs": [
    {
     "data": {
      "text/plain": [
       "array([[ 10,  12,  11,   9,   9,  10,  11,  12,  11,  10,  11,  12],\n",
       "       [100, 110, 105,  94,  95,  99, 104, 108, 105,  98, 103, 110]])"
      ]
     },
     "execution_count": 104,
     "metadata": {},
     "output_type": "execute_result"
    }
   ],
   "source": [
    "Y = np.array([[10,12,11,9,9,10,11,12,11,10,11,12],[100,110,105,94,95,99,104,108,105,98,103,110]])\n",
    "Y"
   ]
  },
  {
   "cell_type": "code",
   "execution_count": 105,
   "metadata": {},
   "outputs": [
    {
     "data": {
      "text/html": [
       "<div>\n",
       "<style scoped>\n",
       "    .dataframe tbody tr th:only-of-type {\n",
       "        vertical-align: middle;\n",
       "    }\n",
       "\n",
       "    .dataframe tbody tr th {\n",
       "        vertical-align: top;\n",
       "    }\n",
       "\n",
       "    .dataframe thead th {\n",
       "        text-align: right;\n",
       "    }\n",
       "</style>\n",
       "<table border=\"1\" class=\"dataframe\">\n",
       "  <thead>\n",
       "    <tr style=\"text-align: right;\">\n",
       "      <th></th>\n",
       "      <th>Sales</th>\n",
       "      <th>Profit</th>\n",
       "    </tr>\n",
       "  </thead>\n",
       "  <tbody>\n",
       "    <tr>\n",
       "      <th>0</th>\n",
       "      <td>10</td>\n",
       "      <td>100</td>\n",
       "    </tr>\n",
       "    <tr>\n",
       "      <th>1</th>\n",
       "      <td>12</td>\n",
       "      <td>110</td>\n",
       "    </tr>\n",
       "    <tr>\n",
       "      <th>2</th>\n",
       "      <td>11</td>\n",
       "      <td>105</td>\n",
       "    </tr>\n",
       "    <tr>\n",
       "      <th>3</th>\n",
       "      <td>9</td>\n",
       "      <td>94</td>\n",
       "    </tr>\n",
       "    <tr>\n",
       "      <th>4</th>\n",
       "      <td>9</td>\n",
       "      <td>95</td>\n",
       "    </tr>\n",
       "    <tr>\n",
       "      <th>5</th>\n",
       "      <td>10</td>\n",
       "      <td>99</td>\n",
       "    </tr>\n",
       "    <tr>\n",
       "      <th>6</th>\n",
       "      <td>11</td>\n",
       "      <td>104</td>\n",
       "    </tr>\n",
       "    <tr>\n",
       "      <th>7</th>\n",
       "      <td>12</td>\n",
       "      <td>108</td>\n",
       "    </tr>\n",
       "    <tr>\n",
       "      <th>8</th>\n",
       "      <td>11</td>\n",
       "      <td>105</td>\n",
       "    </tr>\n",
       "    <tr>\n",
       "      <th>9</th>\n",
       "      <td>10</td>\n",
       "      <td>98</td>\n",
       "    </tr>\n",
       "    <tr>\n",
       "      <th>10</th>\n",
       "      <td>11</td>\n",
       "      <td>103</td>\n",
       "    </tr>\n",
       "    <tr>\n",
       "      <th>11</th>\n",
       "      <td>12</td>\n",
       "      <td>110</td>\n",
       "    </tr>\n",
       "  </tbody>\n",
       "</table>\n",
       "</div>"
      ],
      "text/plain": [
       "    Sales  Profit\n",
       "0      10     100\n",
       "1      12     110\n",
       "2      11     105\n",
       "3       9      94\n",
       "4       9      95\n",
       "5      10      99\n",
       "6      11     104\n",
       "7      12     108\n",
       "8      11     105\n",
       "9      10      98\n",
       "10     11     103\n",
       "11     12     110"
      ]
     },
     "execution_count": 105,
     "metadata": {},
     "output_type": "execute_result"
    }
   ],
   "source": [
    "df2 = pd.DataFrame(Y.T, columns=['Sales','Profit'])\n",
    "df2"
   ]
  },
  {
   "cell_type": "code",
   "execution_count": 106,
   "metadata": {},
   "outputs": [],
   "source": [
    "df2['Sales_adj'] = df2['Sales'].apply(lambda x: x - np.mean(Y[0]))\n",
    "df2['Profit_adj'] = df2['Profit'].apply(lambda x: x - np.mean(Y[1]))"
   ]
  },
  {
   "cell_type": "code",
   "execution_count": 107,
   "metadata": {},
   "outputs": [
    {
     "data": {
      "text/html": [
       "<div>\n",
       "<style scoped>\n",
       "    .dataframe tbody tr th:only-of-type {\n",
       "        vertical-align: middle;\n",
       "    }\n",
       "\n",
       "    .dataframe tbody tr th {\n",
       "        vertical-align: top;\n",
       "    }\n",
       "\n",
       "    .dataframe thead th {\n",
       "        text-align: right;\n",
       "    }\n",
       "</style>\n",
       "<table border=\"1\" class=\"dataframe\">\n",
       "  <thead>\n",
       "    <tr style=\"text-align: right;\">\n",
       "      <th></th>\n",
       "      <th>Sales</th>\n",
       "      <th>Profit</th>\n",
       "      <th>Sales_adj</th>\n",
       "      <th>Profit_adj</th>\n",
       "    </tr>\n",
       "  </thead>\n",
       "  <tbody>\n",
       "    <tr>\n",
       "      <th>0</th>\n",
       "      <td>10</td>\n",
       "      <td>100</td>\n",
       "      <td>-0.666667</td>\n",
       "      <td>-2.583333</td>\n",
       "    </tr>\n",
       "    <tr>\n",
       "      <th>1</th>\n",
       "      <td>12</td>\n",
       "      <td>110</td>\n",
       "      <td>1.333333</td>\n",
       "      <td>7.416667</td>\n",
       "    </tr>\n",
       "    <tr>\n",
       "      <th>2</th>\n",
       "      <td>11</td>\n",
       "      <td>105</td>\n",
       "      <td>0.333333</td>\n",
       "      <td>2.416667</td>\n",
       "    </tr>\n",
       "    <tr>\n",
       "      <th>3</th>\n",
       "      <td>9</td>\n",
       "      <td>94</td>\n",
       "      <td>-1.666667</td>\n",
       "      <td>-8.583333</td>\n",
       "    </tr>\n",
       "    <tr>\n",
       "      <th>4</th>\n",
       "      <td>9</td>\n",
       "      <td>95</td>\n",
       "      <td>-1.666667</td>\n",
       "      <td>-7.583333</td>\n",
       "    </tr>\n",
       "    <tr>\n",
       "      <th>5</th>\n",
       "      <td>10</td>\n",
       "      <td>99</td>\n",
       "      <td>-0.666667</td>\n",
       "      <td>-3.583333</td>\n",
       "    </tr>\n",
       "    <tr>\n",
       "      <th>6</th>\n",
       "      <td>11</td>\n",
       "      <td>104</td>\n",
       "      <td>0.333333</td>\n",
       "      <td>1.416667</td>\n",
       "    </tr>\n",
       "    <tr>\n",
       "      <th>7</th>\n",
       "      <td>12</td>\n",
       "      <td>108</td>\n",
       "      <td>1.333333</td>\n",
       "      <td>5.416667</td>\n",
       "    </tr>\n",
       "    <tr>\n",
       "      <th>8</th>\n",
       "      <td>11</td>\n",
       "      <td>105</td>\n",
       "      <td>0.333333</td>\n",
       "      <td>2.416667</td>\n",
       "    </tr>\n",
       "    <tr>\n",
       "      <th>9</th>\n",
       "      <td>10</td>\n",
       "      <td>98</td>\n",
       "      <td>-0.666667</td>\n",
       "      <td>-4.583333</td>\n",
       "    </tr>\n",
       "    <tr>\n",
       "      <th>10</th>\n",
       "      <td>11</td>\n",
       "      <td>103</td>\n",
       "      <td>0.333333</td>\n",
       "      <td>0.416667</td>\n",
       "    </tr>\n",
       "    <tr>\n",
       "      <th>11</th>\n",
       "      <td>12</td>\n",
       "      <td>110</td>\n",
       "      <td>1.333333</td>\n",
       "      <td>7.416667</td>\n",
       "    </tr>\n",
       "  </tbody>\n",
       "</table>\n",
       "</div>"
      ],
      "text/plain": [
       "    Sales  Profit  Sales_adj  Profit_adj\n",
       "0      10     100  -0.666667   -2.583333\n",
       "1      12     110   1.333333    7.416667\n",
       "2      11     105   0.333333    2.416667\n",
       "3       9      94  -1.666667   -8.583333\n",
       "4       9      95  -1.666667   -7.583333\n",
       "5      10      99  -0.666667   -3.583333\n",
       "6      11     104   0.333333    1.416667\n",
       "7      12     108   1.333333    5.416667\n",
       "8      11     105   0.333333    2.416667\n",
       "9      10      98  -0.666667   -4.583333\n",
       "10     11     103   0.333333    0.416667\n",
       "11     12     110   1.333333    7.416667"
      ]
     },
     "execution_count": 107,
     "metadata": {},
     "output_type": "execute_result"
    }
   ],
   "source": [
    "df2"
   ]
  },
  {
   "cell_type": "code",
   "execution_count": 108,
   "metadata": {},
   "outputs": [
    {
     "data": {
      "image/png": "[encoded data removed]",
      "text/plain": [
       "<Figure size 864x360 with 2 Axes>"
      ]
     },
     "metadata": {
      "needs_background": "light"
     },
     "output_type": "display_data"
    }
   ],
   "source": [
    "c = np.linspace(-10,10,1000)\n",
    "\n",
    "fig, (ax1, ax2) = plt.subplots(1, 2, figsize=(12,5))\n",
    "ax1.scatter(df2.iloc[:,0],df2.iloc[:,1], marker='D',color='green')\n",
    "ax1.grid(True)\n",
    "ax1.axvline(x=0, c=\"black\", label=\"x=0\", ls = '--', linewidth = 0.8)\n",
    "ax1.axhline(y=0, c=\"black\", label=\"y=0\", ls = '--',linewidth = 0.8)\n",
    "ax1.set_title('Data Original')\n",
    "\n",
    "ax2.scatter(df2.iloc[:,2],df2.iloc[:,3], marker='D',color='green')\n",
    "ax2.grid(True)\n",
    "ax2.axvline(x=0, c=\"black\", label=\"x=0\", ls = '--', linewidth = 0.8)\n",
    "ax2.axhline(y=0, c=\"black\", label=\"y=0\", ls = '--',linewidth = 0.8)\n",
    "ax2.set_title('Data Adjust')\n",
    "ax2.set_xlim(-2,2)\n",
    "ax2.set_ylim(-8,8)\n",
    "\n",
    "\n",
    "\n",
    "plt.tight_layout()\n",
    "plt.show()\n"
   ]
  },
  {
   "cell_type": "markdown",
   "metadata": {},
   "source": [
    "Data adjust dimaksudkan agar sebaran data berada di sekitar titik $O$ dan jarak antar variabel tidak terlalu jauh"
   ]
  },
  {
   "cell_type": "markdown",
   "metadata": {},
   "source": [
    "## Covariance"
   ]
  },
  {
   "cell_type": "code",
   "execution_count": 109,
   "metadata": {},
   "outputs": [
    {
     "data": {
      "text/plain": [
       "array([[ 1.15151515,  5.75757576],\n",
       "       [ 5.75757576, 29.53787879]])"
      ]
     },
     "execution_count": 109,
     "metadata": {},
     "output_type": "execute_result"
    }
   ],
   "source": [
    "# covariance data adjust\n",
    "C = np.cov(Y)\n",
    "C"
   ]
  },
  {
   "cell_type": "code",
   "execution_count": 110,
   "metadata": {},
   "outputs": [
    {
     "data": {
      "text/plain": [
       "array([2.81670517e-02, 3.06612269e+01])"
      ]
     },
     "execution_count": 110,
     "metadata": {},
     "output_type": "execute_result"
    }
   ],
   "source": [
    "#Eigen Value,vector\n",
    "Eig_val2,  eigen_vec2 = la.eig(C)\n",
    "Eig_val2"
   ]
  },
  {
   "cell_type": "markdown",
   "metadata": {},
   "source": [
    "## Dua sumbu principal komponen: $\\\\$\n"
   ]
  },
  {
   "cell_type": "markdown",
   "metadata": {},
   "source": [
    "$\\lambda_1 = 30.6612$, dengan eigen vektor $x_1 \\\\$\n",
    "$x_1 = \\begin{bmatrix} 0.19149701 \\\\ 0.9814932 \\end{bmatrix}$  $\\\\$\n",
    "Tapi karena $(C - \\lambda_1 I)x_1 = 0$, dapat kita set $x_1 = \\begin{bmatrix} 0.19149701 \\\\ 0.9814932 \\end{bmatrix}$"
   ]
  },
  {
   "cell_type": "markdown",
   "metadata": {},
   "source": [
    "$\\lambda_2 = 0.0281670517$, dengan eigen vektor $x_2 \\\\$\n",
    "$x_2 = \\begin{bmatrix} 0.9814932 \\\\-0.19149701 \\end{bmatrix}$ "
   ]
  },
  {
   "cell_type": "markdown",
   "metadata": {},
   "source": [
    "### Scatter data asli dan adjust"
   ]
  },
  {
   "cell_type": "code",
   "execution_count": 111,
   "metadata": {},
   "outputs": [
    {
     "data": {
      "image/png": "[encoded data removed]",
      "text/plain": [
       "<Figure size 864x360 with 2 Axes>"
      ]
     },
     "metadata": {
      "needs_background": "light"
     },
     "output_type": "display_data"
    }
   ],
   "source": [
    "\n",
    "c = np.linspace(-10,10,1000)\n",
    "\n",
    "fig, (ax1, ax2) = plt.subplots(1, 2, figsize=(12,5))\n",
    "ax1.scatter(df2.iloc[:,0],df2.iloc[:,1], marker='D',color='green')\n",
    "ax1.grid(True)\n",
    "ax1.axvline(x=0, c=\"black\", label=\"x=0\", ls = '--', linewidth = 0.8)\n",
    "ax1.axhline(y=0, c=\"black\", label=\"y=0\", ls = '--',linewidth = 0.8)\n",
    "ax1.plot(0.19149701*c/0.9814932,c, ls = '--',color = 'red', linewidth =1.3) #Principal component 1 \n",
    "ax1.plot(-0.9814932*c/0.19149701,c, ls = '--',color = 'blue', linewidth =1.3) \n",
    "ax1.set_title('Data Original')\n",
    "\n",
    "ax2.scatter(df2.iloc[:,2],df2.iloc[:,3], marker='D',color='green')\n",
    "ax2.grid(True)\n",
    "ax2.axvline(x=0, c=\"black\", label=\"x=0\", ls = '--', linewidth = 0.8)\n",
    "ax2.axhline(y=0, c=\"black\", label=\"y=0\", ls = '--',linewidth = 0.8)\n",
    "ax2.plot(0.19149701*c/0.9814932,c, ls = '--',color = 'red', linewidth =1.3) #Principal component 1 \n",
    "ax2.plot(-0.9814932*c/0.19149701,c, ls = '--',color = 'blue', linewidth =1.3)\n",
    "ax2.set_title('Data Adjust')\n",
    "ax2.set_xlim(-2,2)\n",
    "ax2.set_ylim(-8,8)\n",
    "\n",
    "\n",
    "\n",
    "plt.tight_layout()\n",
    "plt.show()\n"
   ]
  },
  {
   "cell_type": "code",
   "execution_count": null,
   "metadata": {},
   "outputs": [],
   "source": []
  },
  {
   "cell_type": "code",
   "execution_count": null,
   "metadata": {},
   "outputs": [],
   "source": []
  },
  {
   "cell_type": "code",
   "execution_count": null,
   "metadata": {},
   "outputs": [],
   "source": []
  },
  {
   "cell_type": "code",
   "execution_count": null,
   "metadata": {},
   "outputs": [],
   "source": []
  },
  {
   "cell_type": "code",
   "execution_count": null,
   "metadata": {},
   "outputs": [],
   "source": []
  }
 ],
 "metadata": {
  "kernelspec": {
   "display_name": "Python 3.9.12 ('base')",
   "language": "python",
   "name": "python3"
  },
  "language_info": {
   "codemirror_mode": {
    "name": "ipython",
    "version": 3
   },
   "file_extension": ".py",
   "mimetype": "text/x-python",
   "name": "python",
   "nbconvert_exporter": "python",
   "pygments_lexer": "ipython3",
   "version": "3.9.12"
  },
  "orig_nbformat": 4,
  "vscode": {
   "interpreter": {
    "hash": "fea0466274de65d0a9646a58d55cd55c063d9d7e27ec3580f48562cf541cacfd"
   }
  }
 },
 "nbformat": 4,
 "nbformat_minor": 2
}
